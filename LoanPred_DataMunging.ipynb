{
  "nbformat": 4,
  "nbformat_minor": 0,
  "metadata": {
    "colab": {
      "name": "LoanPred_DataMunging.ipynb",
      "version": "0.3.2",
      "provenance": [],
      "collapsed_sections": [],
      "include_colab_link": true
    },
    "kernelspec": {
      "name": "python3",
      "display_name": "Python 3"
    }
  },
  "cells": [
    {
      "cell_type": "markdown",
      "metadata": {
        "id": "view-in-github",
        "colab_type": "text"
      },
      "source": [
        "<a href=\"https://colab.research.google.com/github/ikonthomas/Loan_Repayment/blob/master/LoanPred_DataMunging.ipynb\" target=\"_parent\"><img src=\"https://colab.research.google.com/assets/colab-badge.svg\" alt=\"Open In Colab\"/></a>"
      ]
    },
    {
      "cell_type": "markdown",
      "metadata": {
        "id": "bc4zzbq8RMM5",
        "colab_type": "text"
      },
      "source": [
        "The goal is to train a model to learn to predict the labels from the given features with 0 meaning client will repay the loan on time while 1 means will have difficulty repaying loan."
      ]
    },
    {
      "cell_type": "code",
      "metadata": {
        "id": "teeW6RaHQtnw",
        "colab_type": "code",
        "colab": {}
      },
      "source": [
        "#importing all the necessary libraries. \n",
        "import pandas as pd \n",
        "import numpy as np\n",
        "import matplotlib.pyplot as  plt \n",
        "import seaborn as sns\n",
        "from IPython.display import display"
      ],
      "execution_count": 0,
      "outputs": []
    },
    {
      "cell_type": "code",
      "metadata": {
        "id": "MCKLjn7sSNRK",
        "colab_type": "code",
        "colab": {
          "base_uri": "https://localhost:8080/",
          "height": 309
        },
        "outputId": "39385bb5-98c1-4de8-fcc9-411fe873f6a2"
      },
      "source": [
        "train_demographics = pd.read_csv('https://raw.githubusercontent.com/ikonthomas/Loan_Repayment/master/traindemographics.csv', parse_dates=['birthdate'])\n",
        "train_demographics.head()"
      ],
      "execution_count": 68,
      "outputs": [
        {
          "output_type": "execute_result",
          "data": {
            "text/html": [
              "<div>\n",
              "<style scoped>\n",
              "    .dataframe tbody tr th:only-of-type {\n",
              "        vertical-align: middle;\n",
              "    }\n",
              "\n",
              "    .dataframe tbody tr th {\n",
              "        vertical-align: top;\n",
              "    }\n",
              "\n",
              "    .dataframe thead th {\n",
              "        text-align: right;\n",
              "    }\n",
              "</style>\n",
              "<table border=\"1\" class=\"dataframe\">\n",
              "  <thead>\n",
              "    <tr style=\"text-align: right;\">\n",
              "      <th></th>\n",
              "      <th>customerid</th>\n",
              "      <th>birthdate</th>\n",
              "      <th>bank_account_type</th>\n",
              "      <th>longitude_gps</th>\n",
              "      <th>latitude_gps</th>\n",
              "      <th>bank_name_clients</th>\n",
              "      <th>bank_branch_clients</th>\n",
              "      <th>employment_status_clients</th>\n",
              "      <th>level_of_education_clients</th>\n",
              "    </tr>\n",
              "  </thead>\n",
              "  <tbody>\n",
              "    <tr>\n",
              "      <th>0</th>\n",
              "      <td>8a858e135cb22031015cbafc76964ebd</td>\n",
              "      <td>1973-10-10</td>\n",
              "      <td>Savings</td>\n",
              "      <td>3.319219</td>\n",
              "      <td>6.528604</td>\n",
              "      <td>GT Bank</td>\n",
              "      <td>NaN</td>\n",
              "      <td>NaN</td>\n",
              "      <td>NaN</td>\n",
              "    </tr>\n",
              "    <tr>\n",
              "      <th>1</th>\n",
              "      <td>8a858e275c7ea5ec015c82482d7c3996</td>\n",
              "      <td>1986-01-21</td>\n",
              "      <td>Savings</td>\n",
              "      <td>3.325598</td>\n",
              "      <td>7.119403</td>\n",
              "      <td>Sterling Bank</td>\n",
              "      <td>NaN</td>\n",
              "      <td>Permanent</td>\n",
              "      <td>NaN</td>\n",
              "    </tr>\n",
              "    <tr>\n",
              "      <th>2</th>\n",
              "      <td>8a858e5b5bd99460015bdc95cd485634</td>\n",
              "      <td>1987-04-01</td>\n",
              "      <td>Savings</td>\n",
              "      <td>5.746100</td>\n",
              "      <td>5.563174</td>\n",
              "      <td>Fidelity Bank</td>\n",
              "      <td>NaN</td>\n",
              "      <td>NaN</td>\n",
              "      <td>NaN</td>\n",
              "    </tr>\n",
              "    <tr>\n",
              "      <th>3</th>\n",
              "      <td>8a858efd5ca70688015cabd1f1e94b55</td>\n",
              "      <td>1991-07-19</td>\n",
              "      <td>Savings</td>\n",
              "      <td>3.362850</td>\n",
              "      <td>6.642485</td>\n",
              "      <td>GT Bank</td>\n",
              "      <td>NaN</td>\n",
              "      <td>Permanent</td>\n",
              "      <td>NaN</td>\n",
              "    </tr>\n",
              "    <tr>\n",
              "      <th>4</th>\n",
              "      <td>8a858e785acd3412015acd48f4920d04</td>\n",
              "      <td>1982-11-22</td>\n",
              "      <td>Savings</td>\n",
              "      <td>8.455332</td>\n",
              "      <td>11.971410</td>\n",
              "      <td>GT Bank</td>\n",
              "      <td>NaN</td>\n",
              "      <td>Permanent</td>\n",
              "      <td>NaN</td>\n",
              "    </tr>\n",
              "  </tbody>\n",
              "</table>\n",
              "</div>"
            ],
            "text/plain": [
              "                         customerid  ... level_of_education_clients\n",
              "0  8a858e135cb22031015cbafc76964ebd  ...                        NaN\n",
              "1  8a858e275c7ea5ec015c82482d7c3996  ...                        NaN\n",
              "2  8a858e5b5bd99460015bdc95cd485634  ...                        NaN\n",
              "3  8a858efd5ca70688015cabd1f1e94b55  ...                        NaN\n",
              "4  8a858e785acd3412015acd48f4920d04  ...                        NaN\n",
              "\n",
              "[5 rows x 9 columns]"
            ]
          },
          "metadata": {
            "tags": []
          },
          "execution_count": 68
        }
      ]
    },
    {
      "cell_type": "code",
      "metadata": {
        "id": "aBk4_FruSko2",
        "colab_type": "code",
        "colab": {
          "base_uri": "https://localhost:8080/",
          "height": 309
        },
        "outputId": "562380e4-227f-4d01-82b1-8c7fa462e2f0"
      },
      "source": [
        "test_demographics=pd.read_csv('https://raw.githubusercontent.com/ikonthomas/Loan_Repayment/master/testdemographics.csv', parse_dates=['birthdate'])\n",
        "test_demographics.head()"
      ],
      "execution_count": 69,
      "outputs": [
        {
          "output_type": "execute_result",
          "data": {
            "text/html": [
              "<div>\n",
              "<style scoped>\n",
              "    .dataframe tbody tr th:only-of-type {\n",
              "        vertical-align: middle;\n",
              "    }\n",
              "\n",
              "    .dataframe tbody tr th {\n",
              "        vertical-align: top;\n",
              "    }\n",
              "\n",
              "    .dataframe thead th {\n",
              "        text-align: right;\n",
              "    }\n",
              "</style>\n",
              "<table border=\"1\" class=\"dataframe\">\n",
              "  <thead>\n",
              "    <tr style=\"text-align: right;\">\n",
              "      <th></th>\n",
              "      <th>customerid</th>\n",
              "      <th>birthdate</th>\n",
              "      <th>bank_account_type</th>\n",
              "      <th>longitude_gps</th>\n",
              "      <th>latitude_gps</th>\n",
              "      <th>bank_name_clients</th>\n",
              "      <th>bank_branch_clients</th>\n",
              "      <th>employment_status_clients</th>\n",
              "      <th>level_of_education_clients</th>\n",
              "    </tr>\n",
              "  </thead>\n",
              "  <tbody>\n",
              "    <tr>\n",
              "      <th>0</th>\n",
              "      <td>8a858f305c8dd672015c93b1db645db4</td>\n",
              "      <td>1976-08-28</td>\n",
              "      <td>Savings</td>\n",
              "      <td>5.296628</td>\n",
              "      <td>7.593965</td>\n",
              "      <td>Heritage Bank</td>\n",
              "      <td>NaN</td>\n",
              "      <td>Permanent</td>\n",
              "      <td>NaN</td>\n",
              "    </tr>\n",
              "    <tr>\n",
              "      <th>1</th>\n",
              "      <td>8a858f085a477386015a47fb049e49ca</td>\n",
              "      <td>1978-06-23</td>\n",
              "      <td>Savings</td>\n",
              "      <td>3.294513</td>\n",
              "      <td>6.596602</td>\n",
              "      <td>UBA</td>\n",
              "      <td>NaN</td>\n",
              "      <td>Permanent</td>\n",
              "      <td>NaN</td>\n",
              "    </tr>\n",
              "    <tr>\n",
              "      <th>2</th>\n",
              "      <td>8a858e6f5cd5e874015cd6f5634c39ad</td>\n",
              "      <td>1984-04-04</td>\n",
              "      <td>Savings</td>\n",
              "      <td>8.501912</td>\n",
              "      <td>7.729364</td>\n",
              "      <td>First Bank</td>\n",
              "      <td>NaN</td>\n",
              "      <td>Permanent</td>\n",
              "      <td>NaN</td>\n",
              "    </tr>\n",
              "    <tr>\n",
              "      <th>3</th>\n",
              "      <td>8a858e9d5bfd7037015bfdab79f61305</td>\n",
              "      <td>1983-05-28</td>\n",
              "      <td>Savings</td>\n",
              "      <td>3.318904</td>\n",
              "      <td>6.681595</td>\n",
              "      <td>UBA</td>\n",
              "      <td>NaN</td>\n",
              "      <td>Permanent</td>\n",
              "      <td>NaN</td>\n",
              "    </tr>\n",
              "    <tr>\n",
              "      <th>4</th>\n",
              "      <td>8a858fde56eb02280156eb6dafc128ac</td>\n",
              "      <td>1982-03-29</td>\n",
              "      <td>Savings</td>\n",
              "      <td>6.354624</td>\n",
              "      <td>4.949031</td>\n",
              "      <td>First Bank</td>\n",
              "      <td>NaN</td>\n",
              "      <td>Self-Employed</td>\n",
              "      <td>NaN</td>\n",
              "    </tr>\n",
              "  </tbody>\n",
              "</table>\n",
              "</div>"
            ],
            "text/plain": [
              "                         customerid  ... level_of_education_clients\n",
              "0  8a858f305c8dd672015c93b1db645db4  ...                        NaN\n",
              "1  8a858f085a477386015a47fb049e49ca  ...                        NaN\n",
              "2  8a858e6f5cd5e874015cd6f5634c39ad  ...                        NaN\n",
              "3  8a858e9d5bfd7037015bfdab79f61305  ...                        NaN\n",
              "4  8a858fde56eb02280156eb6dafc128ac  ...                        NaN\n",
              "\n",
              "[5 rows x 9 columns]"
            ]
          },
          "metadata": {
            "tags": []
          },
          "execution_count": 69
        }
      ]
    },
    {
      "cell_type": "code",
      "metadata": {
        "id": "F_SkNQ01Wy_b",
        "colab_type": "code",
        "colab": {
          "base_uri": "https://localhost:8080/",
          "height": 289
        },
        "outputId": "4b044977-7c31-4c37-e857-36a818d229a3"
      },
      "source": [
        "train_perf=pd.read_csv('https://raw.githubusercontent.com/ikonthomas/Loan_Repayment/master/trainperf.csv', parse_dates=['approveddate','creationdate'])\n",
        "train_perf.head()"
      ],
      "execution_count": 70,
      "outputs": [
        {
          "output_type": "execute_result",
          "data": {
            "text/html": [
              "<div>\n",
              "<style scoped>\n",
              "    .dataframe tbody tr th:only-of-type {\n",
              "        vertical-align: middle;\n",
              "    }\n",
              "\n",
              "    .dataframe tbody tr th {\n",
              "        vertical-align: top;\n",
              "    }\n",
              "\n",
              "    .dataframe thead th {\n",
              "        text-align: right;\n",
              "    }\n",
              "</style>\n",
              "<table border=\"1\" class=\"dataframe\">\n",
              "  <thead>\n",
              "    <tr style=\"text-align: right;\">\n",
              "      <th></th>\n",
              "      <th>customerid</th>\n",
              "      <th>systemloanid</th>\n",
              "      <th>loannumber</th>\n",
              "      <th>approveddate</th>\n",
              "      <th>creationdate</th>\n",
              "      <th>loanamount</th>\n",
              "      <th>totaldue</th>\n",
              "      <th>termdays</th>\n",
              "      <th>referredby</th>\n",
              "      <th>good_bad_flag</th>\n",
              "    </tr>\n",
              "  </thead>\n",
              "  <tbody>\n",
              "    <tr>\n",
              "      <th>0</th>\n",
              "      <td>8a2a81a74ce8c05d014cfb32a0da1049</td>\n",
              "      <td>301994762</td>\n",
              "      <td>12</td>\n",
              "      <td>2017-07-25 08:22:56</td>\n",
              "      <td>2017-07-25 07:22:47</td>\n",
              "      <td>30000.0</td>\n",
              "      <td>34500.0</td>\n",
              "      <td>30</td>\n",
              "      <td>NaN</td>\n",
              "      <td>Good</td>\n",
              "    </tr>\n",
              "    <tr>\n",
              "      <th>1</th>\n",
              "      <td>8a85886e54beabf90154c0a29ae757c0</td>\n",
              "      <td>301965204</td>\n",
              "      <td>2</td>\n",
              "      <td>2017-07-05 17:04:41</td>\n",
              "      <td>2017-07-05 16:04:18</td>\n",
              "      <td>15000.0</td>\n",
              "      <td>17250.0</td>\n",
              "      <td>30</td>\n",
              "      <td>NaN</td>\n",
              "      <td>Good</td>\n",
              "    </tr>\n",
              "    <tr>\n",
              "      <th>2</th>\n",
              "      <td>8a8588f35438fe12015444567666018e</td>\n",
              "      <td>301966580</td>\n",
              "      <td>7</td>\n",
              "      <td>2017-07-06 14:52:57</td>\n",
              "      <td>2017-07-06 13:52:51</td>\n",
              "      <td>20000.0</td>\n",
              "      <td>22250.0</td>\n",
              "      <td>15</td>\n",
              "      <td>NaN</td>\n",
              "      <td>Good</td>\n",
              "    </tr>\n",
              "    <tr>\n",
              "      <th>3</th>\n",
              "      <td>8a85890754145ace015429211b513e16</td>\n",
              "      <td>301999343</td>\n",
              "      <td>3</td>\n",
              "      <td>2017-07-27 19:00:41</td>\n",
              "      <td>2017-07-27 18:00:35</td>\n",
              "      <td>10000.0</td>\n",
              "      <td>11500.0</td>\n",
              "      <td>15</td>\n",
              "      <td>NaN</td>\n",
              "      <td>Good</td>\n",
              "    </tr>\n",
              "    <tr>\n",
              "      <th>4</th>\n",
              "      <td>8a858970548359cc0154883481981866</td>\n",
              "      <td>301962360</td>\n",
              "      <td>9</td>\n",
              "      <td>2017-07-03 23:42:45</td>\n",
              "      <td>2017-07-03 22:42:39</td>\n",
              "      <td>40000.0</td>\n",
              "      <td>44000.0</td>\n",
              "      <td>30</td>\n",
              "      <td>NaN</td>\n",
              "      <td>Good</td>\n",
              "    </tr>\n",
              "  </tbody>\n",
              "</table>\n",
              "</div>"
            ],
            "text/plain": [
              "                         customerid  systemloanid  ...  referredby good_bad_flag\n",
              "0  8a2a81a74ce8c05d014cfb32a0da1049     301994762  ...         NaN          Good\n",
              "1  8a85886e54beabf90154c0a29ae757c0     301965204  ...         NaN          Good\n",
              "2  8a8588f35438fe12015444567666018e     301966580  ...         NaN          Good\n",
              "3  8a85890754145ace015429211b513e16     301999343  ...         NaN          Good\n",
              "4  8a858970548359cc0154883481981866     301962360  ...         NaN          Good\n",
              "\n",
              "[5 rows x 10 columns]"
            ]
          },
          "metadata": {
            "tags": []
          },
          "execution_count": 70
        }
      ]
    },
    {
      "cell_type": "code",
      "metadata": {
        "id": "R9M2KoszXHt0",
        "colab_type": "code",
        "colab": {
          "base_uri": "https://localhost:8080/",
          "height": 204
        },
        "outputId": "b7e9bf11-bfd0-4f28-e4af-08cfe37bcf82"
      },
      "source": [
        "test_perf=pd.read_csv('https://raw.githubusercontent.com/ikonthomas/Loan_Repayment/master/testperf.csv', parse_dates=['approveddate','creationdate'])\n",
        "test_perf.head()"
      ],
      "execution_count": 71,
      "outputs": [
        {
          "output_type": "execute_result",
          "data": {
            "text/html": [
              "<div>\n",
              "<style scoped>\n",
              "    .dataframe tbody tr th:only-of-type {\n",
              "        vertical-align: middle;\n",
              "    }\n",
              "\n",
              "    .dataframe tbody tr th {\n",
              "        vertical-align: top;\n",
              "    }\n",
              "\n",
              "    .dataframe thead th {\n",
              "        text-align: right;\n",
              "    }\n",
              "</style>\n",
              "<table border=\"1\" class=\"dataframe\">\n",
              "  <thead>\n",
              "    <tr style=\"text-align: right;\">\n",
              "      <th></th>\n",
              "      <th>customerid</th>\n",
              "      <th>systemloanid</th>\n",
              "      <th>loannumber</th>\n",
              "      <th>approveddate</th>\n",
              "      <th>creationdate</th>\n",
              "      <th>loanamount</th>\n",
              "      <th>totaldue</th>\n",
              "      <th>termdays</th>\n",
              "      <th>referredby</th>\n",
              "    </tr>\n",
              "  </thead>\n",
              "  <tbody>\n",
              "    <tr>\n",
              "      <th>0</th>\n",
              "      <td>8a858899538ddb8e015390510b321f08</td>\n",
              "      <td>301998974</td>\n",
              "      <td>4</td>\n",
              "      <td>40:48.0</td>\n",
              "      <td>39:35.0</td>\n",
              "      <td>10000</td>\n",
              "      <td>12250.0</td>\n",
              "      <td>30</td>\n",
              "      <td>NaN</td>\n",
              "    </tr>\n",
              "    <tr>\n",
              "      <th>1</th>\n",
              "      <td>8a858959537a097401537a4e316e25f7</td>\n",
              "      <td>301963615</td>\n",
              "      <td>10</td>\n",
              "      <td>43:40.0</td>\n",
              "      <td>42:34.0</td>\n",
              "      <td>40000</td>\n",
              "      <td>44000.0</td>\n",
              "      <td>30</td>\n",
              "      <td>NaN</td>\n",
              "    </tr>\n",
              "    <tr>\n",
              "      <th>2</th>\n",
              "      <td>8a8589c253ace09b0153af6ba58f1f31</td>\n",
              "      <td>301982236</td>\n",
              "      <td>6</td>\n",
              "      <td>15:11.0</td>\n",
              "      <td>15:04.0</td>\n",
              "      <td>20000</td>\n",
              "      <td>24500.0</td>\n",
              "      <td>30</td>\n",
              "      <td>NaN</td>\n",
              "    </tr>\n",
              "    <tr>\n",
              "      <th>3</th>\n",
              "      <td>8a858e095aae82b7015aae86ca1e030b</td>\n",
              "      <td>301971730</td>\n",
              "      <td>8</td>\n",
              "      <td>00:54.0</td>\n",
              "      <td>00:49.0</td>\n",
              "      <td>30000</td>\n",
              "      <td>34500.0</td>\n",
              "      <td>30</td>\n",
              "      <td>NaN</td>\n",
              "    </tr>\n",
              "    <tr>\n",
              "      <th>4</th>\n",
              "      <td>8a858e225a28c713015a30db5c48383d</td>\n",
              "      <td>301959177</td>\n",
              "      <td>4</td>\n",
              "      <td>04:33.0</td>\n",
              "      <td>04:27.0</td>\n",
              "      <td>20000</td>\n",
              "      <td>24500.0</td>\n",
              "      <td>30</td>\n",
              "      <td>NaN</td>\n",
              "    </tr>\n",
              "  </tbody>\n",
              "</table>\n",
              "</div>"
            ],
            "text/plain": [
              "                         customerid  systemloanid  ...  termdays referredby\n",
              "0  8a858899538ddb8e015390510b321f08     301998974  ...        30        NaN\n",
              "1  8a858959537a097401537a4e316e25f7     301963615  ...        30        NaN\n",
              "2  8a8589c253ace09b0153af6ba58f1f31     301982236  ...        30        NaN\n",
              "3  8a858e095aae82b7015aae86ca1e030b     301971730  ...        30        NaN\n",
              "4  8a858e225a28c713015a30db5c48383d     301959177  ...        30        NaN\n",
              "\n",
              "[5 rows x 9 columns]"
            ]
          },
          "metadata": {
            "tags": []
          },
          "execution_count": 71
        }
      ]
    },
    {
      "cell_type": "code",
      "metadata": {
        "id": "nl2E8MsDXYu0",
        "colab_type": "code",
        "colab": {
          "base_uri": "https://localhost:8080/",
          "height": 309
        },
        "outputId": "dd9482ca-b53c-45b8-9b15-5222b3198fa8"
      },
      "source": [
        "train_prevloans=pd.read_csv('https://raw.githubusercontent.com/ikonthomas/Loan_Repayment/master/trainprevloans.csv', parse_dates=['approveddate','creationdate','closeddate','firstduedate','firstrepaiddate']) \n",
        "train_prevloans.head()\n"
      ],
      "execution_count": 72,
      "outputs": [
        {
          "output_type": "execute_result",
          "data": {
            "text/html": [
              "<div>\n",
              "<style scoped>\n",
              "    .dataframe tbody tr th:only-of-type {\n",
              "        vertical-align: middle;\n",
              "    }\n",
              "\n",
              "    .dataframe tbody tr th {\n",
              "        vertical-align: top;\n",
              "    }\n",
              "\n",
              "    .dataframe thead th {\n",
              "        text-align: right;\n",
              "    }\n",
              "</style>\n",
              "<table border=\"1\" class=\"dataframe\">\n",
              "  <thead>\n",
              "    <tr style=\"text-align: right;\">\n",
              "      <th></th>\n",
              "      <th>customerid</th>\n",
              "      <th>systemloanid</th>\n",
              "      <th>loannumber</th>\n",
              "      <th>approveddate</th>\n",
              "      <th>creationdate</th>\n",
              "      <th>loanamount</th>\n",
              "      <th>totaldue</th>\n",
              "      <th>termdays</th>\n",
              "      <th>closeddate</th>\n",
              "      <th>referredby</th>\n",
              "      <th>firstduedate</th>\n",
              "      <th>firstrepaiddate</th>\n",
              "    </tr>\n",
              "  </thead>\n",
              "  <tbody>\n",
              "    <tr>\n",
              "      <th>0</th>\n",
              "      <td>8a2a81a74ce8c05d014cfb32a0da1049</td>\n",
              "      <td>301682320</td>\n",
              "      <td>2</td>\n",
              "      <td>2016-08-15 18:22:40</td>\n",
              "      <td>2016-08-15 17:22:32</td>\n",
              "      <td>10000.0</td>\n",
              "      <td>13000.0</td>\n",
              "      <td>30</td>\n",
              "      <td>2016-09-01 16:06:48</td>\n",
              "      <td>NaN</td>\n",
              "      <td>2016-09-14</td>\n",
              "      <td>2016-09-01 15:51:43</td>\n",
              "    </tr>\n",
              "    <tr>\n",
              "      <th>1</th>\n",
              "      <td>8a2a81a74ce8c05d014cfb32a0da1049</td>\n",
              "      <td>301883808</td>\n",
              "      <td>9</td>\n",
              "      <td>2017-04-28 18:39:07</td>\n",
              "      <td>2017-04-28 17:38:53</td>\n",
              "      <td>10000.0</td>\n",
              "      <td>13000.0</td>\n",
              "      <td>30</td>\n",
              "      <td>2017-05-28 14:44:49</td>\n",
              "      <td>NaN</td>\n",
              "      <td>2017-05-30</td>\n",
              "      <td>2017-05-26 00:00:00</td>\n",
              "    </tr>\n",
              "    <tr>\n",
              "      <th>2</th>\n",
              "      <td>8a2a81a74ce8c05d014cfb32a0da1049</td>\n",
              "      <td>301831714</td>\n",
              "      <td>8</td>\n",
              "      <td>2017-03-05 10:56:25</td>\n",
              "      <td>2017-03-05 09:56:19</td>\n",
              "      <td>20000.0</td>\n",
              "      <td>23800.0</td>\n",
              "      <td>30</td>\n",
              "      <td>2017-04-26 22:18:56</td>\n",
              "      <td>NaN</td>\n",
              "      <td>2017-04-04</td>\n",
              "      <td>2017-04-26 22:03:47</td>\n",
              "    </tr>\n",
              "    <tr>\n",
              "      <th>3</th>\n",
              "      <td>8a8588f35438fe12015444567666018e</td>\n",
              "      <td>301861541</td>\n",
              "      <td>5</td>\n",
              "      <td>2017-04-09 18:25:55</td>\n",
              "      <td>2017-04-09 17:25:42</td>\n",
              "      <td>10000.0</td>\n",
              "      <td>11500.0</td>\n",
              "      <td>15</td>\n",
              "      <td>2017-04-24 01:35:52</td>\n",
              "      <td>NaN</td>\n",
              "      <td>2017-04-24</td>\n",
              "      <td>2017-04-24 00:48:43</td>\n",
              "    </tr>\n",
              "    <tr>\n",
              "      <th>4</th>\n",
              "      <td>8a85890754145ace015429211b513e16</td>\n",
              "      <td>301941754</td>\n",
              "      <td>2</td>\n",
              "      <td>2017-06-17 09:29:57</td>\n",
              "      <td>2017-06-17 08:29:50</td>\n",
              "      <td>10000.0</td>\n",
              "      <td>11500.0</td>\n",
              "      <td>15</td>\n",
              "      <td>2017-07-14 21:18:43</td>\n",
              "      <td>NaN</td>\n",
              "      <td>2017-07-03</td>\n",
              "      <td>2017-07-14 21:08:35</td>\n",
              "    </tr>\n",
              "  </tbody>\n",
              "</table>\n",
              "</div>"
            ],
            "text/plain": [
              "                         customerid  ...     firstrepaiddate\n",
              "0  8a2a81a74ce8c05d014cfb32a0da1049  ... 2016-09-01 15:51:43\n",
              "1  8a2a81a74ce8c05d014cfb32a0da1049  ... 2017-05-26 00:00:00\n",
              "2  8a2a81a74ce8c05d014cfb32a0da1049  ... 2017-04-26 22:03:47\n",
              "3  8a8588f35438fe12015444567666018e  ... 2017-04-24 00:48:43\n",
              "4  8a85890754145ace015429211b513e16  ... 2017-07-14 21:08:35\n",
              "\n",
              "[5 rows x 12 columns]"
            ]
          },
          "metadata": {
            "tags": []
          },
          "execution_count": 72
        }
      ]
    },
    {
      "cell_type": "code",
      "metadata": {
        "id": "995kthupX-ur",
        "colab_type": "code",
        "colab": {
          "base_uri": "https://localhost:8080/",
          "height": 309
        },
        "outputId": "b99366a7-5908-4dfa-ec0d-129d5eb6b237"
      },
      "source": [
        "test_prevloans=pd.read_csv('https://raw.githubusercontent.com/ikonthomas/Loan_Repayment/master/testprevloans.csv', parse_dates=['approveddate','creationdate','closeddate','firstduedate','firstrepaiddate']) \n",
        "test_prevloans.head()"
      ],
      "execution_count": 73,
      "outputs": [
        {
          "output_type": "execute_result",
          "data": {
            "text/html": [
              "<div>\n",
              "<style scoped>\n",
              "    .dataframe tbody tr th:only-of-type {\n",
              "        vertical-align: middle;\n",
              "    }\n",
              "\n",
              "    .dataframe tbody tr th {\n",
              "        vertical-align: top;\n",
              "    }\n",
              "\n",
              "    .dataframe thead th {\n",
              "        text-align: right;\n",
              "    }\n",
              "</style>\n",
              "<table border=\"1\" class=\"dataframe\">\n",
              "  <thead>\n",
              "    <tr style=\"text-align: right;\">\n",
              "      <th></th>\n",
              "      <th>customerid</th>\n",
              "      <th>systemloanid</th>\n",
              "      <th>loannumber</th>\n",
              "      <th>approveddate</th>\n",
              "      <th>creationdate</th>\n",
              "      <th>loanamount</th>\n",
              "      <th>totaldue</th>\n",
              "      <th>termdays</th>\n",
              "      <th>closeddate</th>\n",
              "      <th>referredby</th>\n",
              "      <th>firstduedate</th>\n",
              "      <th>firstrepaiddate</th>\n",
              "    </tr>\n",
              "  </thead>\n",
              "  <tbody>\n",
              "    <tr>\n",
              "      <th>0</th>\n",
              "      <td>8a858899538ddb8e015390510b321f08</td>\n",
              "      <td>301621635</td>\n",
              "      <td>3</td>\n",
              "      <td>2016-05-17 10:37:00</td>\n",
              "      <td>2016-05-17 09:36:55</td>\n",
              "      <td>10000.0</td>\n",
              "      <td>13000.0</td>\n",
              "      <td>30</td>\n",
              "      <td>2016-06-17 00:04:15</td>\n",
              "      <td>NaN</td>\n",
              "      <td>2016-06-16</td>\n",
              "      <td>2016-06-16 15:44:08</td>\n",
              "    </tr>\n",
              "    <tr>\n",
              "      <th>1</th>\n",
              "      <td>8a858959537a097401537a4e316e25f7</td>\n",
              "      <td>301810201</td>\n",
              "      <td>5</td>\n",
              "      <td>2017-02-04 21:28:59</td>\n",
              "      <td>2017-02-04 20:28:52</td>\n",
              "      <td>30000.0</td>\n",
              "      <td>36800.0</td>\n",
              "      <td>60</td>\n",
              "      <td>2017-03-02 16:22:58</td>\n",
              "      <td>NaN</td>\n",
              "      <td>2017-03-06</td>\n",
              "      <td>2017-03-02 16:07:47</td>\n",
              "    </tr>\n",
              "    <tr>\n",
              "      <th>2</th>\n",
              "      <td>8a858959537a097401537a4e316e25f7</td>\n",
              "      <td>301831255</td>\n",
              "      <td>6</td>\n",
              "      <td>2017-03-04 10:28:22</td>\n",
              "      <td>2017-03-04 09:28:16</td>\n",
              "      <td>30000.0</td>\n",
              "      <td>34400.0</td>\n",
              "      <td>30</td>\n",
              "      <td>2017-04-02 00:44:24</td>\n",
              "      <td>NaN</td>\n",
              "      <td>2017-04-03</td>\n",
              "      <td>2017-04-01 21:29:46</td>\n",
              "    </tr>\n",
              "    <tr>\n",
              "      <th>3</th>\n",
              "      <td>8a8589c253ace09b0153af6ba58f1f31</td>\n",
              "      <td>301627292</td>\n",
              "      <td>3</td>\n",
              "      <td>2016-06-02 14:27:14</td>\n",
              "      <td>2016-06-02 13:27:08</td>\n",
              "      <td>10000.0</td>\n",
              "      <td>13000.0</td>\n",
              "      <td>30</td>\n",
              "      <td>2016-07-04 11:34:04</td>\n",
              "      <td>NaN</td>\n",
              "      <td>2016-07-04</td>\n",
              "      <td>2016-07-04 11:19:01</td>\n",
              "    </tr>\n",
              "    <tr>\n",
              "      <th>4</th>\n",
              "      <td>8a8589c253ace09b0153af6ba58f1f31</td>\n",
              "      <td>301621095</td>\n",
              "      <td>2</td>\n",
              "      <td>2016-05-16 09:13:12</td>\n",
              "      <td>2016-05-16 08:13:04</td>\n",
              "      <td>10000.0</td>\n",
              "      <td>11500.0</td>\n",
              "      <td>15</td>\n",
              "      <td>2016-06-02 00:02:58</td>\n",
              "      <td>NaN</td>\n",
              "      <td>2016-05-31</td>\n",
              "      <td>2016-06-01 15:22:34</td>\n",
              "    </tr>\n",
              "  </tbody>\n",
              "</table>\n",
              "</div>"
            ],
            "text/plain": [
              "                         customerid  ...     firstrepaiddate\n",
              "0  8a858899538ddb8e015390510b321f08  ... 2016-06-16 15:44:08\n",
              "1  8a858959537a097401537a4e316e25f7  ... 2017-03-02 16:07:47\n",
              "2  8a858959537a097401537a4e316e25f7  ... 2017-04-01 21:29:46\n",
              "3  8a8589c253ace09b0153af6ba58f1f31  ... 2016-07-04 11:19:01\n",
              "4  8a8589c253ace09b0153af6ba58f1f31  ... 2016-06-01 15:22:34\n",
              "\n",
              "[5 rows x 12 columns]"
            ]
          },
          "metadata": {
            "tags": []
          },
          "execution_count": 73
        }
      ]
    },
    {
      "cell_type": "code",
      "metadata": {
        "id": "XhEtmWABigyo",
        "colab_type": "code",
        "colab": {}
      },
      "source": [
        "# Data Preparation\n",
        "\n",
        "train_demographics['set'] = 'train'\n",
        "test_demographics['set'] = 'test'\n",
        "train_perf['set'] = 'train'\n",
        "test_perf['set'] = 'test'\n",
        "train_prevloans['set'] = 'train'\n",
        "test_prevloans['set'] = 'test'\n"
      ],
      "execution_count": 0,
      "outputs": []
    },
    {
      "cell_type": "code",
      "metadata": {
        "id": "Q_F_JUJqYO9p",
        "colab_type": "code",
        "colab": {}
      },
      "source": [
        "# merge datasets\n",
        "\n",
        "demographics_data=pd.concat([train_demographics,test_demographics],sort=False)\n",
        "performance_data=pd.concat([train_perf,test_perf],sort=False)\n",
        "previous_data=pd.concat([train_prevloans,test_prevloans],sort=False)"
      ],
      "execution_count": 0,
      "outputs": []
    },
    {
      "cell_type": "code",
      "metadata": {
        "id": "vBM4ftB8ZcGd",
        "colab_type": "code",
        "colab": {
          "base_uri": "https://localhost:8080/",
          "height": 309
        },
        "outputId": "3ded494d-edee-42fe-c3e5-02a6ff4a6c6a"
      },
      "source": [
        "demographics_data.head()"
      ],
      "execution_count": 76,
      "outputs": [
        {
          "output_type": "execute_result",
          "data": {
            "text/html": [
              "<div>\n",
              "<style scoped>\n",
              "    .dataframe tbody tr th:only-of-type {\n",
              "        vertical-align: middle;\n",
              "    }\n",
              "\n",
              "    .dataframe tbody tr th {\n",
              "        vertical-align: top;\n",
              "    }\n",
              "\n",
              "    .dataframe thead th {\n",
              "        text-align: right;\n",
              "    }\n",
              "</style>\n",
              "<table border=\"1\" class=\"dataframe\">\n",
              "  <thead>\n",
              "    <tr style=\"text-align: right;\">\n",
              "      <th></th>\n",
              "      <th>customerid</th>\n",
              "      <th>birthdate</th>\n",
              "      <th>bank_account_type</th>\n",
              "      <th>longitude_gps</th>\n",
              "      <th>latitude_gps</th>\n",
              "      <th>bank_name_clients</th>\n",
              "      <th>bank_branch_clients</th>\n",
              "      <th>employment_status_clients</th>\n",
              "      <th>level_of_education_clients</th>\n",
              "      <th>set</th>\n",
              "    </tr>\n",
              "  </thead>\n",
              "  <tbody>\n",
              "    <tr>\n",
              "      <th>0</th>\n",
              "      <td>8a858e135cb22031015cbafc76964ebd</td>\n",
              "      <td>1973-10-10</td>\n",
              "      <td>Savings</td>\n",
              "      <td>3.319219</td>\n",
              "      <td>6.528604</td>\n",
              "      <td>GT Bank</td>\n",
              "      <td>NaN</td>\n",
              "      <td>NaN</td>\n",
              "      <td>NaN</td>\n",
              "      <td>train</td>\n",
              "    </tr>\n",
              "    <tr>\n",
              "      <th>1</th>\n",
              "      <td>8a858e275c7ea5ec015c82482d7c3996</td>\n",
              "      <td>1986-01-21</td>\n",
              "      <td>Savings</td>\n",
              "      <td>3.325598</td>\n",
              "      <td>7.119403</td>\n",
              "      <td>Sterling Bank</td>\n",
              "      <td>NaN</td>\n",
              "      <td>Permanent</td>\n",
              "      <td>NaN</td>\n",
              "      <td>train</td>\n",
              "    </tr>\n",
              "    <tr>\n",
              "      <th>2</th>\n",
              "      <td>8a858e5b5bd99460015bdc95cd485634</td>\n",
              "      <td>1987-04-01</td>\n",
              "      <td>Savings</td>\n",
              "      <td>5.746100</td>\n",
              "      <td>5.563174</td>\n",
              "      <td>Fidelity Bank</td>\n",
              "      <td>NaN</td>\n",
              "      <td>NaN</td>\n",
              "      <td>NaN</td>\n",
              "      <td>train</td>\n",
              "    </tr>\n",
              "    <tr>\n",
              "      <th>3</th>\n",
              "      <td>8a858efd5ca70688015cabd1f1e94b55</td>\n",
              "      <td>1991-07-19</td>\n",
              "      <td>Savings</td>\n",
              "      <td>3.362850</td>\n",
              "      <td>6.642485</td>\n",
              "      <td>GT Bank</td>\n",
              "      <td>NaN</td>\n",
              "      <td>Permanent</td>\n",
              "      <td>NaN</td>\n",
              "      <td>train</td>\n",
              "    </tr>\n",
              "    <tr>\n",
              "      <th>4</th>\n",
              "      <td>8a858e785acd3412015acd48f4920d04</td>\n",
              "      <td>1982-11-22</td>\n",
              "      <td>Savings</td>\n",
              "      <td>8.455332</td>\n",
              "      <td>11.971410</td>\n",
              "      <td>GT Bank</td>\n",
              "      <td>NaN</td>\n",
              "      <td>Permanent</td>\n",
              "      <td>NaN</td>\n",
              "      <td>train</td>\n",
              "    </tr>\n",
              "  </tbody>\n",
              "</table>\n",
              "</div>"
            ],
            "text/plain": [
              "                         customerid  ...    set\n",
              "0  8a858e135cb22031015cbafc76964ebd  ...  train\n",
              "1  8a858e275c7ea5ec015c82482d7c3996  ...  train\n",
              "2  8a858e5b5bd99460015bdc95cd485634  ...  train\n",
              "3  8a858efd5ca70688015cabd1f1e94b55  ...  train\n",
              "4  8a858e785acd3412015acd48f4920d04  ...  train\n",
              "\n",
              "[5 rows x 10 columns]"
            ]
          },
          "metadata": {
            "tags": []
          },
          "execution_count": 76
        }
      ]
    },
    {
      "cell_type": "code",
      "metadata": {
        "id": "Suae0LudZqE2",
        "colab_type": "code",
        "colab": {}
      },
      "source": [
        ""
      ],
      "execution_count": 0,
      "outputs": []
    },
    {
      "cell_type": "code",
      "metadata": {
        "id": "jBJDVoxFaAKL",
        "colab_type": "code",
        "colab": {
          "base_uri": "https://localhost:8080/",
          "height": 85
        },
        "outputId": "05ad2452-fd96-4bc7-b998-bf02b964480d"
      },
      "source": [
        "demographics_data[\"bank_account_type\"].value_counts()"
      ],
      "execution_count": 77,
      "outputs": [
        {
          "output_type": "execute_result",
          "data": {
            "text/plain": [
              "Savings    4583\n",
              "Other      1170\n",
              "Current      80\n",
              "Name: bank_account_type, dtype: int64"
            ]
          },
          "metadata": {
            "tags": []
          },
          "execution_count": 77
        }
      ]
    },
    {
      "cell_type": "code",
      "metadata": {
        "id": "u6rNVzrPaKOI",
        "colab_type": "code",
        "colab": {
          "base_uri": "https://localhost:8080/",
          "height": 340
        },
        "outputId": "a7a1fef6-ab86-404a-81fe-4d5030788069"
      },
      "source": [
        "demographics_data[\"bank_name_clients\"].value_counts()"
      ],
      "execution_count": 78,
      "outputs": [
        {
          "output_type": "execute_result",
          "data": {
            "text/plain": [
              "GT Bank               2133\n",
              "First Bank             793\n",
              "Access Bank            568\n",
              "UBA                    463\n",
              "Zenith Bank            413\n",
              "Diamond Bank           392\n",
              "EcoBank                202\n",
              "Stanbic IBTC           194\n",
              "FCMB                   168\n",
              "Skye Bank              147\n",
              "Fidelity Bank          139\n",
              "Sterling Bank           68\n",
              "Wema Bank               37\n",
              "Union Bank              36\n",
              "Heritage Bank           27\n",
              "Keystone Bank           25\n",
              "Standard Chartered      19\n",
              "Unity Bank               9\n",
              "Name: bank_name_clients, dtype: int64"
            ]
          },
          "metadata": {
            "tags": []
          },
          "execution_count": 78
        }
      ]
    },
    {
      "cell_type": "code",
      "metadata": {
        "id": "u5xS1liNdys7",
        "colab_type": "code",
        "colab": {
          "base_uri": "https://localhost:8080/",
          "height": 476
        },
        "outputId": "ec2d28f1-a2c2-49d6-be3e-d89b36c246c9"
      },
      "source": [
        "#demographics_data.isnull()\n",
        "#[\"bank_name_clients\"].unique()\n",
        "import matplotlib.pyplot as plt\n",
        "%matplotlib inline\n",
        "\n",
        "percentage_missing_data = demographics_data.isnull().sum() / demographics_data.shape[0]\n",
        "ax = percentage_missing_data.plot(kind = 'bar', color='y', figsize = (16, 5))\n",
        "ax.set_xlabel('Feature')\n",
        "ax.set_ylabel('Percent Empty / NaN')\n",
        "ax.set_title('Feature Emptiness')\n",
        "plt.show()"
      ],
      "execution_count": 79,
      "outputs": [
        {
          "output_type": "display_data",
          "data": {
            "image/png": "[encoded data removed]",
            "text/plain": [
              "<Figure size 1152x360 with 1 Axes>"
            ]
          },
          "metadata": {
            "tags": []
          }
        }
      ]
    },
    {
      "cell_type": "code",
      "metadata": {
        "id": "r65PQCzfdycf",
        "colab_type": "code",
        "colab": {}
      },
      "source": [
        "useless=['bank_branch_clients', 'level_of_education_clients']\n",
        "demographics_data.drop(useless, axis=1, inplace=True)"
      ],
      "execution_count": 0,
      "outputs": []
    },
    {
      "cell_type": "code",
      "metadata": {
        "id": "BP2DhCudhnFv",
        "colab_type": "code",
        "colab": {
          "base_uri": "https://localhost:8080/",
          "height": 85
        },
        "outputId": "2daaf1c4-9d1e-473b-875f-bcb567147f05"
      },
      "source": [
        "demographics_data.columns"
      ],
      "execution_count": 81,
      "outputs": [
        {
          "output_type": "execute_result",
          "data": {
            "text/plain": [
              "Index(['customerid', 'birthdate', 'bank_account_type', 'longitude_gps',\n",
              "       'latitude_gps', 'bank_name_clients', 'employment_status_clients',\n",
              "       'set'],\n",
              "      dtype='object')"
            ]
          },
          "metadata": {
            "tags": []
          },
          "execution_count": 81
        }
      ]
    },
    {
      "cell_type": "code",
      "metadata": {
        "id": "QhxQF7rddyNG",
        "colab_type": "code",
        "colab": {
          "base_uri": "https://localhost:8080/",
          "height": 297
        },
        "outputId": "5264e347-c4fb-487f-91eb-68f9a6d0287e"
      },
      "source": [
        "import numpy as np\n",
        "from sklearn import preprocessing\n",
        "\n",
        "# Function to label encode categorical variables.\n",
        "# Input: array (array of values)\n",
        "# Output: array (array of encoded values)\n",
        "def encode_categorical(array):\n",
        "    if not array.dtype == np.dtype('float64'):\n",
        "        return preprocessing.LabelEncoder().fit_transform(array) \n",
        "    else:\n",
        "        return array\n",
        "    \n",
        "# Temporary dataframe\n",
        "temp_data = demographics_data.copy()\n",
        "\n",
        "# Delete additional entries with NaN values\n",
        "temp_data = temp_data.dropna(axis=0)\n",
        "\n",
        "# Encode categorical data\n",
        "temp_data = temp_data.apply(encode_categorical)\n",
        "# Compute matrix of correlation coefficients\n",
        "corr_matrix = temp_data.corr()\n",
        "\n",
        "corr_matrix"
      ],
      "execution_count": 82,
      "outputs": [
        {
          "output_type": "execute_result",
          "data": {
            "text/html": [
              "<div>\n",
              "<style scoped>\n",
              "    .dataframe tbody tr th:only-of-type {\n",
              "        vertical-align: middle;\n",
              "    }\n",
              "\n",
              "    .dataframe tbody tr th {\n",
              "        vertical-align: top;\n",
              "    }\n",
              "\n",
              "    .dataframe thead th {\n",
              "        text-align: right;\n",
              "    }\n",
              "</style>\n",
              "<table border=\"1\" class=\"dataframe\">\n",
              "  <thead>\n",
              "    <tr style=\"text-align: right;\">\n",
              "      <th></th>\n",
              "      <th>customerid</th>\n",
              "      <th>birthdate</th>\n",
              "      <th>bank_account_type</th>\n",
              "      <th>longitude_gps</th>\n",
              "      <th>latitude_gps</th>\n",
              "      <th>bank_name_clients</th>\n",
              "      <th>employment_status_clients</th>\n",
              "      <th>set</th>\n",
              "    </tr>\n",
              "  </thead>\n",
              "  <tbody>\n",
              "    <tr>\n",
              "      <th>customerid</th>\n",
              "      <td>1.000000</td>\n",
              "      <td>0.026593</td>\n",
              "      <td>0.099387</td>\n",
              "      <td>0.015852</td>\n",
              "      <td>-0.006700</td>\n",
              "      <td>0.011651</td>\n",
              "      <td>-0.038847</td>\n",
              "      <td>0.011140</td>\n",
              "    </tr>\n",
              "    <tr>\n",
              "      <th>birthdate</th>\n",
              "      <td>0.026593</td>\n",
              "      <td>1.000000</td>\n",
              "      <td>0.042586</td>\n",
              "      <td>0.008362</td>\n",
              "      <td>0.028859</td>\n",
              "      <td>-0.016665</td>\n",
              "      <td>0.147211</td>\n",
              "      <td>0.005069</td>\n",
              "    </tr>\n",
              "    <tr>\n",
              "      <th>bank_account_type</th>\n",
              "      <td>0.099387</td>\n",
              "      <td>0.042586</td>\n",
              "      <td>1.000000</td>\n",
              "      <td>0.013725</td>\n",
              "      <td>0.006594</td>\n",
              "      <td>-0.017822</td>\n",
              "      <td>-0.221284</td>\n",
              "      <td>0.012918</td>\n",
              "    </tr>\n",
              "    <tr>\n",
              "      <th>longitude_gps</th>\n",
              "      <td>0.015852</td>\n",
              "      <td>0.008362</td>\n",
              "      <td>0.013725</td>\n",
              "      <td>1.000000</td>\n",
              "      <td>-0.107959</td>\n",
              "      <td>-0.000201</td>\n",
              "      <td>0.000392</td>\n",
              "      <td>0.015924</td>\n",
              "    </tr>\n",
              "    <tr>\n",
              "      <th>latitude_gps</th>\n",
              "      <td>-0.006700</td>\n",
              "      <td>0.028859</td>\n",
              "      <td>0.006594</td>\n",
              "      <td>-0.107959</td>\n",
              "      <td>1.000000</td>\n",
              "      <td>-0.020504</td>\n",
              "      <td>-0.024447</td>\n",
              "      <td>0.019578</td>\n",
              "    </tr>\n",
              "    <tr>\n",
              "      <th>bank_name_clients</th>\n",
              "      <td>0.011651</td>\n",
              "      <td>-0.016665</td>\n",
              "      <td>-0.017822</td>\n",
              "      <td>-0.000201</td>\n",
              "      <td>-0.020504</td>\n",
              "      <td>1.000000</td>\n",
              "      <td>-0.033387</td>\n",
              "      <td>-0.002604</td>\n",
              "    </tr>\n",
              "    <tr>\n",
              "      <th>employment_status_clients</th>\n",
              "      <td>-0.038847</td>\n",
              "      <td>0.147211</td>\n",
              "      <td>-0.221284</td>\n",
              "      <td>0.000392</td>\n",
              "      <td>-0.024447</td>\n",
              "      <td>-0.033387</td>\n",
              "      <td>1.000000</td>\n",
              "      <td>-0.004246</td>\n",
              "    </tr>\n",
              "    <tr>\n",
              "      <th>set</th>\n",
              "      <td>0.011140</td>\n",
              "      <td>0.005069</td>\n",
              "      <td>0.012918</td>\n",
              "      <td>0.015924</td>\n",
              "      <td>0.019578</td>\n",
              "      <td>-0.002604</td>\n",
              "      <td>-0.004246</td>\n",
              "      <td>1.000000</td>\n",
              "    </tr>\n",
              "  </tbody>\n",
              "</table>\n",
              "</div>"
            ],
            "text/plain": [
              "                           customerid  ...       set\n",
              "customerid                   1.000000  ...  0.011140\n",
              "birthdate                    0.026593  ...  0.005069\n",
              "bank_account_type            0.099387  ...  0.012918\n",
              "longitude_gps                0.015852  ...  0.015924\n",
              "latitude_gps                -0.006700  ...  0.019578\n",
              "bank_name_clients            0.011651  ... -0.002604\n",
              "employment_status_clients   -0.038847  ... -0.004246\n",
              "set                          0.011140  ...  1.000000\n",
              "\n",
              "[8 rows x 8 columns]"
            ]
          },
          "metadata": {
            "tags": []
          },
          "execution_count": 82
        }
      ]
    },
    {
      "cell_type": "code",
      "metadata": {
        "id": "irokBRSVoB55",
        "colab_type": "code",
        "colab": {
          "base_uri": "https://localhost:8080/",
          "height": 238
        },
        "outputId": "75be7617-545b-4f70-89e7-fb5cbdcd0fd5"
      },
      "source": [
        "demographics_data.info()"
      ],
      "execution_count": 83,
      "outputs": [
        {
          "output_type": "stream",
          "text": [
            "<class 'pandas.core.frame.DataFrame'>\n",
            "Int64Index: 5833 entries, 0 to 1486\n",
            "Data columns (total 8 columns):\n",
            "customerid                   5833 non-null object\n",
            "birthdate                    5833 non-null datetime64[ns]\n",
            "bank_account_type            5833 non-null object\n",
            "longitude_gps                5833 non-null float64\n",
            "latitude_gps                 5833 non-null float64\n",
            "bank_name_clients            5833 non-null object\n",
            "employment_status_clients    4968 non-null object\n",
            "set                          5833 non-null object\n",
            "dtypes: datetime64[ns](1), float64(2), object(5)\n",
            "memory usage: 410.1+ KB\n"
          ],
          "name": "stdout"
        }
      ]
    },
    {
      "cell_type": "code",
      "metadata": {
        "id": "NATIGpOndx-o",
        "colab_type": "code",
        "colab": {
          "base_uri": "https://localhost:8080/",
          "height": 476
        },
        "outputId": "b39e7a3a-e85b-4f0f-9a1b-9a8d23b6b2e2"
      },
      "source": [
        "plt.figure(figsize=(16,7))\n",
        "sns.scatterplot(x=\"longitude_gps\", y=\"latitude_gps\",hue=\"bank_name_clients\",data=demographics_data)\n",
        "plt.title(\" Banks Locations \")\n",
        "plt.legend()"
      ],
      "execution_count": 84,
      "outputs": [
        {
          "output_type": "execute_result",
          "data": {
            "text/plain": [
              "<matplotlib.legend.Legend at 0x7fa5e9e0c438>"
            ]
          },
          "metadata": {
            "tags": []
          },
          "execution_count": 84
        },
        {
          "output_type": "display_data",
          "data": {
            "image/png": "[encoded data removed]",
            "text/plain": [
              "<Figure size 1152x504 with 1 Axes>"
            ]
          },
          "metadata": {
            "tags": []
          }
        }
      ]
    },
    {
      "cell_type": "code",
      "metadata": {
        "id": "jt_vTObFdxwa",
        "colab_type": "code",
        "colab": {
          "base_uri": "https://localhost:8080/",
          "height": 476
        },
        "outputId": "f5b4e013-e0b4-4891-a305-daddddeee9bc"
      },
      "source": [
        "plt.figure(figsize=(16,7))\n",
        "sns.scatterplot(x=\"longitude_gps\", y=\"latitude_gps\",hue=\"employment_status_clients\",data=demographics_data)\n",
        "plt.title(\"Employment Locations\")\n",
        "plt.legend()"
      ],
      "execution_count": 85,
      "outputs": [
        {
          "output_type": "execute_result",
          "data": {
            "text/plain": [
              "<matplotlib.legend.Legend at 0x7fa5ea00ffd0>"
            ]
          },
          "metadata": {
            "tags": []
          },
          "execution_count": 85
        },
        {
          "output_type": "display_data",
          "data": {
            "image/png": "[encoded data removed]",
            "text/plain": [
              "<Figure size 1152x504 with 1 Axes>"
            ]
          },
          "metadata": {
            "tags": []
          }
        }
      ]
    },
    {
      "cell_type": "code",
      "metadata": {
        "id": "uucFkOBudxiJ",
        "colab_type": "code",
        "colab": {
          "base_uri": "https://localhost:8080/",
          "height": 136
        },
        "outputId": "c05bb7e6-ecc4-4af6-fac2-3534a30a763f"
      },
      "source": [
        "demographics_data[\"employment_status_clients\"].value_counts()"
      ],
      "execution_count": 86,
      "outputs": [
        {
          "output_type": "execute_result",
          "data": {
            "text/plain": [
              "Permanent        4220\n",
              "Self-Employed     470\n",
              "Student           189\n",
              "Unemployed         79\n",
              "Retired             8\n",
              "Contract            2\n",
              "Name: employment_status_clients, dtype: int64"
            ]
          },
          "metadata": {
            "tags": []
          },
          "execution_count": 86
        }
      ]
    },
    {
      "cell_type": "code",
      "metadata": {
        "id": "4A-wWXrQdwm4",
        "colab_type": "code",
        "colab": {}
      },
      "source": [
        "#Creating the Target Variable\n",
        "\n",
        "target = {'Good':1,'Bad':0}\n",
        "performance_data.good_bad_flag =performance_data.good_bad_flag.map(target)"
      ],
      "execution_count": 0,
      "outputs": []
    },
    {
      "cell_type": "code",
      "metadata": {
        "id": "oEHTfFGSsQT4",
        "colab_type": "code",
        "colab": {
          "base_uri": "https://localhost:8080/",
          "height": 289
        },
        "outputId": "b34c7742-edb9-4305-fe45-ac26f5fb0f99"
      },
      "source": [
        "#Checking the mapped Target\n",
        "performance_data.head()"
      ],
      "execution_count": 88,
      "outputs": [
        {
          "output_type": "execute_result",
          "data": {
            "text/html": [
              "<div>\n",
              "<style scoped>\n",
              "    .dataframe tbody tr th:only-of-type {\n",
              "        vertical-align: middle;\n",
              "    }\n",
              "\n",
              "    .dataframe tbody tr th {\n",
              "        vertical-align: top;\n",
              "    }\n",
              "\n",
              "    .dataframe thead th {\n",
              "        text-align: right;\n",
              "    }\n",
              "</style>\n",
              "<table border=\"1\" class=\"dataframe\">\n",
              "  <thead>\n",
              "    <tr style=\"text-align: right;\">\n",
              "      <th></th>\n",
              "      <th>customerid</th>\n",
              "      <th>systemloanid</th>\n",
              "      <th>loannumber</th>\n",
              "      <th>approveddate</th>\n",
              "      <th>creationdate</th>\n",
              "      <th>loanamount</th>\n",
              "      <th>totaldue</th>\n",
              "      <th>termdays</th>\n",
              "      <th>referredby</th>\n",
              "      <th>good_bad_flag</th>\n",
              "      <th>set</th>\n",
              "    </tr>\n",
              "  </thead>\n",
              "  <tbody>\n",
              "    <tr>\n",
              "      <th>0</th>\n",
              "      <td>8a2a81a74ce8c05d014cfb32a0da1049</td>\n",
              "      <td>301994762</td>\n",
              "      <td>12</td>\n",
              "      <td>2017-07-25 08:22:56</td>\n",
              "      <td>2017-07-25 07:22:47</td>\n",
              "      <td>30000.0</td>\n",
              "      <td>34500.0</td>\n",
              "      <td>30</td>\n",
              "      <td>NaN</td>\n",
              "      <td>1.0</td>\n",
              "      <td>train</td>\n",
              "    </tr>\n",
              "    <tr>\n",
              "      <th>1</th>\n",
              "      <td>8a85886e54beabf90154c0a29ae757c0</td>\n",
              "      <td>301965204</td>\n",
              "      <td>2</td>\n",
              "      <td>2017-07-05 17:04:41</td>\n",
              "      <td>2017-07-05 16:04:18</td>\n",
              "      <td>15000.0</td>\n",
              "      <td>17250.0</td>\n",
              "      <td>30</td>\n",
              "      <td>NaN</td>\n",
              "      <td>1.0</td>\n",
              "      <td>train</td>\n",
              "    </tr>\n",
              "    <tr>\n",
              "      <th>2</th>\n",
              "      <td>8a8588f35438fe12015444567666018e</td>\n",
              "      <td>301966580</td>\n",
              "      <td>7</td>\n",
              "      <td>2017-07-06 14:52:57</td>\n",
              "      <td>2017-07-06 13:52:51</td>\n",
              "      <td>20000.0</td>\n",
              "      <td>22250.0</td>\n",
              "      <td>15</td>\n",
              "      <td>NaN</td>\n",
              "      <td>1.0</td>\n",
              "      <td>train</td>\n",
              "    </tr>\n",
              "    <tr>\n",
              "      <th>3</th>\n",
              "      <td>8a85890754145ace015429211b513e16</td>\n",
              "      <td>301999343</td>\n",
              "      <td>3</td>\n",
              "      <td>2017-07-27 19:00:41</td>\n",
              "      <td>2017-07-27 18:00:35</td>\n",
              "      <td>10000.0</td>\n",
              "      <td>11500.0</td>\n",
              "      <td>15</td>\n",
              "      <td>NaN</td>\n",
              "      <td>1.0</td>\n",
              "      <td>train</td>\n",
              "    </tr>\n",
              "    <tr>\n",
              "      <th>4</th>\n",
              "      <td>8a858970548359cc0154883481981866</td>\n",
              "      <td>301962360</td>\n",
              "      <td>9</td>\n",
              "      <td>2017-07-03 23:42:45</td>\n",
              "      <td>2017-07-03 22:42:39</td>\n",
              "      <td>40000.0</td>\n",
              "      <td>44000.0</td>\n",
              "      <td>30</td>\n",
              "      <td>NaN</td>\n",
              "      <td>1.0</td>\n",
              "      <td>train</td>\n",
              "    </tr>\n",
              "  </tbody>\n",
              "</table>\n",
              "</div>"
            ],
            "text/plain": [
              "                         customerid  systemloanid  ...  good_bad_flag    set\n",
              "0  8a2a81a74ce8c05d014cfb32a0da1049     301994762  ...            1.0  train\n",
              "1  8a85886e54beabf90154c0a29ae757c0     301965204  ...            1.0  train\n",
              "2  8a8588f35438fe12015444567666018e     301966580  ...            1.0  train\n",
              "3  8a85890754145ace015429211b513e16     301999343  ...            1.0  train\n",
              "4  8a858970548359cc0154883481981866     301962360  ...            1.0  train\n",
              "\n",
              "[5 rows x 11 columns]"
            ]
          },
          "metadata": {
            "tags": []
          },
          "execution_count": 88
        }
      ]
    },
    {
      "cell_type": "code",
      "metadata": {
        "id": "dJp1EPGHtElm",
        "colab_type": "code",
        "colab": {
          "base_uri": "https://localhost:8080/",
          "height": 584
        },
        "outputId": "a9360b52-5382-4445-d26c-318197524dcf"
      },
      "source": [
        "plt.figure(figsize=(16,9))\n",
        "plt.title(\"Good (1) vs bad loans (0)\")\n",
        "\n",
        "sns.barplot(x=\"loannumber\", y=\"loanamount\", hue=\"good_bad_flag\",data=performance_data)\n",
        "plt.legend()"
      ],
      "execution_count": 89,
      "outputs": [
        {
          "output_type": "execute_result",
          "data": {
            "text/plain": [
              "<matplotlib.legend.Legend at 0x7fa5e9fdb780>"
            ]
          },
          "metadata": {
            "tags": []
          },
          "execution_count": 89
        },
        {
          "output_type": "display_data",
          "data": {
            "image/png": "[encoded data removed]",
            "text/plain": [
              "<Figure size 1152x648 with 1 Axes>"
            ]
          },
          "metadata": {
            "tags": []
          }
        }
      ]
    },
    {
      "cell_type": "code",
      "metadata": {
        "id": "XnfAsvmttEFY",
        "colab_type": "code",
        "colab": {
          "base_uri": "https://localhost:8080/",
          "height": 412
        },
        "outputId": "0ce55c75-aba8-4ff6-9356-bcea36224489"
      },
      "source": [
        "# performance data\n",
        "\n",
        "%matplotlib inline\n",
        "\n",
        "percentage_missing_data = performance_data.isnull().sum() / performance_data.shape[0]\n",
        "ax = percentage_missing_data.plot(kind = 'bar', color='g', figsize = (16, 5))\n",
        "ax.set_xlabel('Feature')\n",
        "ax.set_ylabel('Percent Empty / NaN')\n",
        "ax.set_title('Feature Emptiness Performance_data')\n",
        "plt.show()"
      ],
      "execution_count": 90,
      "outputs": [
        {
          "output_type": "display_data",
          "data": {
            "image/png": "[encoded data removed]",
            "text/plain": [
              "<Figure size 1152x360 with 1 Axes>"
            ]
          },
          "metadata": {
            "tags": []
          }
        }
      ]
    },
    {
      "cell_type": "code",
      "metadata": {
        "id": "YEUR_JMKxye9",
        "colab_type": "code",
        "colab": {
          "base_uri": "https://localhost:8080/",
          "height": 204
        },
        "outputId": "a43107e4-0ec9-4c65-d74e-6194ec33ba5c"
      },
      "source": [
        "\n",
        "performance_data.drop('referredby', axis=1, inplace=True)\n",
        "performance_data.head()"
      ],
      "execution_count": 91,
      "outputs": [
        {
          "output_type": "execute_result",
          "data": {
            "text/html": [
              "<div>\n",
              "<style scoped>\n",
              "    .dataframe tbody tr th:only-of-type {\n",
              "        vertical-align: middle;\n",
              "    }\n",
              "\n",
              "    .dataframe tbody tr th {\n",
              "        vertical-align: top;\n",
              "    }\n",
              "\n",
              "    .dataframe thead th {\n",
              "        text-align: right;\n",
              "    }\n",
              "</style>\n",
              "<table border=\"1\" class=\"dataframe\">\n",
              "  <thead>\n",
              "    <tr style=\"text-align: right;\">\n",
              "      <th></th>\n",
              "      <th>customerid</th>\n",
              "      <th>systemloanid</th>\n",
              "      <th>loannumber</th>\n",
              "      <th>approveddate</th>\n",
              "      <th>creationdate</th>\n",
              "      <th>loanamount</th>\n",
              "      <th>totaldue</th>\n",
              "      <th>termdays</th>\n",
              "      <th>good_bad_flag</th>\n",
              "      <th>set</th>\n",
              "    </tr>\n",
              "  </thead>\n",
              "  <tbody>\n",
              "    <tr>\n",
              "      <th>0</th>\n",
              "      <td>8a2a81a74ce8c05d014cfb32a0da1049</td>\n",
              "      <td>301994762</td>\n",
              "      <td>12</td>\n",
              "      <td>2017-07-25 08:22:56</td>\n",
              "      <td>2017-07-25 07:22:47</td>\n",
              "      <td>30000.0</td>\n",
              "      <td>34500.0</td>\n",
              "      <td>30</td>\n",
              "      <td>1.0</td>\n",
              "      <td>train</td>\n",
              "    </tr>\n",
              "    <tr>\n",
              "      <th>1</th>\n",
              "      <td>8a85886e54beabf90154c0a29ae757c0</td>\n",
              "      <td>301965204</td>\n",
              "      <td>2</td>\n",
              "      <td>2017-07-05 17:04:41</td>\n",
              "      <td>2017-07-05 16:04:18</td>\n",
              "      <td>15000.0</td>\n",
              "      <td>17250.0</td>\n",
              "      <td>30</td>\n",
              "      <td>1.0</td>\n",
              "      <td>train</td>\n",
              "    </tr>\n",
              "    <tr>\n",
              "      <th>2</th>\n",
              "      <td>8a8588f35438fe12015444567666018e</td>\n",
              "      <td>301966580</td>\n",
              "      <td>7</td>\n",
              "      <td>2017-07-06 14:52:57</td>\n",
              "      <td>2017-07-06 13:52:51</td>\n",
              "      <td>20000.0</td>\n",
              "      <td>22250.0</td>\n",
              "      <td>15</td>\n",
              "      <td>1.0</td>\n",
              "      <td>train</td>\n",
              "    </tr>\n",
              "    <tr>\n",
              "      <th>3</th>\n",
              "      <td>8a85890754145ace015429211b513e16</td>\n",
              "      <td>301999343</td>\n",
              "      <td>3</td>\n",
              "      <td>2017-07-27 19:00:41</td>\n",
              "      <td>2017-07-27 18:00:35</td>\n",
              "      <td>10000.0</td>\n",
              "      <td>11500.0</td>\n",
              "      <td>15</td>\n",
              "      <td>1.0</td>\n",
              "      <td>train</td>\n",
              "    </tr>\n",
              "    <tr>\n",
              "      <th>4</th>\n",
              "      <td>8a858970548359cc0154883481981866</td>\n",
              "      <td>301962360</td>\n",
              "      <td>9</td>\n",
              "      <td>2017-07-03 23:42:45</td>\n",
              "      <td>2017-07-03 22:42:39</td>\n",
              "      <td>40000.0</td>\n",
              "      <td>44000.0</td>\n",
              "      <td>30</td>\n",
              "      <td>1.0</td>\n",
              "      <td>train</td>\n",
              "    </tr>\n",
              "  </tbody>\n",
              "</table>\n",
              "</div>"
            ],
            "text/plain": [
              "                         customerid  systemloanid  ...  good_bad_flag    set\n",
              "0  8a2a81a74ce8c05d014cfb32a0da1049     301994762  ...            1.0  train\n",
              "1  8a85886e54beabf90154c0a29ae757c0     301965204  ...            1.0  train\n",
              "2  8a8588f35438fe12015444567666018e     301966580  ...            1.0  train\n",
              "3  8a85890754145ace015429211b513e16     301999343  ...            1.0  train\n",
              "4  8a858970548359cc0154883481981866     301962360  ...            1.0  train\n",
              "\n",
              "[5 rows x 10 columns]"
            ]
          },
          "metadata": {
            "tags": []
          },
          "execution_count": 91
        }
      ]
    },
    {
      "cell_type": "code",
      "metadata": {
        "id": "JCDGNaCLyi66",
        "colab_type": "code",
        "colab": {
          "base_uri": "https://localhost:8080/",
          "height": 119
        },
        "outputId": "9829c348-fdc2-49a2-f3bb-4c3943586a1e"
      },
      "source": [
        "demographics_data.drop_duplicates(subset=demographics_data.columns,keep='last', inplace=True) # drops duplicates\n",
        "\n",
        "#create new column\n",
        "demographics_data['Age']=2019-demographics_data.birthdate.dt.year\n",
        "\n",
        "demographics_data[\"bank_account_type\"] = demographics_data[\"bank_account_type\"].replace(\"Current\", \"Other\")\n",
        "\n",
        "demographics_data[\"Age\"].head()"
      ],
      "execution_count": 92,
      "outputs": [
        {
          "output_type": "execute_result",
          "data": {
            "text/plain": [
              "0    46\n",
              "1    33\n",
              "2    32\n",
              "3    28\n",
              "4    37\n",
              "Name: Age, dtype: int64"
            ]
          },
          "metadata": {
            "tags": []
          },
          "execution_count": 92
        }
      ]
    },
    {
      "cell_type": "code",
      "metadata": {
        "id": "e4btHn4D0GEN",
        "colab_type": "code",
        "colab": {
          "base_uri": "https://localhost:8080/",
          "height": 309
        },
        "outputId": "ae81cae3-8a5c-4d6b-8c8e-4853b625119b"
      },
      "source": [
        "previous_data.head()"
      ],
      "execution_count": 93,
      "outputs": [
        {
          "output_type": "execute_result",
          "data": {
            "text/html": [
              "<div>\n",
              "<style scoped>\n",
              "    .dataframe tbody tr th:only-of-type {\n",
              "        vertical-align: middle;\n",
              "    }\n",
              "\n",
              "    .dataframe tbody tr th {\n",
              "        vertical-align: top;\n",
              "    }\n",
              "\n",
              "    .dataframe thead th {\n",
              "        text-align: right;\n",
              "    }\n",
              "</style>\n",
              "<table border=\"1\" class=\"dataframe\">\n",
              "  <thead>\n",
              "    <tr style=\"text-align: right;\">\n",
              "      <th></th>\n",
              "      <th>customerid</th>\n",
              "      <th>systemloanid</th>\n",
              "      <th>loannumber</th>\n",
              "      <th>approveddate</th>\n",
              "      <th>creationdate</th>\n",
              "      <th>loanamount</th>\n",
              "      <th>totaldue</th>\n",
              "      <th>termdays</th>\n",
              "      <th>closeddate</th>\n",
              "      <th>referredby</th>\n",
              "      <th>firstduedate</th>\n",
              "      <th>firstrepaiddate</th>\n",
              "      <th>set</th>\n",
              "    </tr>\n",
              "  </thead>\n",
              "  <tbody>\n",
              "    <tr>\n",
              "      <th>0</th>\n",
              "      <td>8a2a81a74ce8c05d014cfb32a0da1049</td>\n",
              "      <td>301682320</td>\n",
              "      <td>2</td>\n",
              "      <td>2016-08-15 18:22:40</td>\n",
              "      <td>2016-08-15 17:22:32</td>\n",
              "      <td>10000.0</td>\n",
              "      <td>13000.0</td>\n",
              "      <td>30</td>\n",
              "      <td>2016-09-01 16:06:48</td>\n",
              "      <td>NaN</td>\n",
              "      <td>2016-09-14</td>\n",
              "      <td>2016-09-01 15:51:43</td>\n",
              "      <td>train</td>\n",
              "    </tr>\n",
              "    <tr>\n",
              "      <th>1</th>\n",
              "      <td>8a2a81a74ce8c05d014cfb32a0da1049</td>\n",
              "      <td>301883808</td>\n",
              "      <td>9</td>\n",
              "      <td>2017-04-28 18:39:07</td>\n",
              "      <td>2017-04-28 17:38:53</td>\n",
              "      <td>10000.0</td>\n",
              "      <td>13000.0</td>\n",
              "      <td>30</td>\n",
              "      <td>2017-05-28 14:44:49</td>\n",
              "      <td>NaN</td>\n",
              "      <td>2017-05-30</td>\n",
              "      <td>2017-05-26 00:00:00</td>\n",
              "      <td>train</td>\n",
              "    </tr>\n",
              "    <tr>\n",
              "      <th>2</th>\n",
              "      <td>8a2a81a74ce8c05d014cfb32a0da1049</td>\n",
              "      <td>301831714</td>\n",
              "      <td>8</td>\n",
              "      <td>2017-03-05 10:56:25</td>\n",
              "      <td>2017-03-05 09:56:19</td>\n",
              "      <td>20000.0</td>\n",
              "      <td>23800.0</td>\n",
              "      <td>30</td>\n",
              "      <td>2017-04-26 22:18:56</td>\n",
              "      <td>NaN</td>\n",
              "      <td>2017-04-04</td>\n",
              "      <td>2017-04-26 22:03:47</td>\n",
              "      <td>train</td>\n",
              "    </tr>\n",
              "    <tr>\n",
              "      <th>3</th>\n",
              "      <td>8a8588f35438fe12015444567666018e</td>\n",
              "      <td>301861541</td>\n",
              "      <td>5</td>\n",
              "      <td>2017-04-09 18:25:55</td>\n",
              "      <td>2017-04-09 17:25:42</td>\n",
              "      <td>10000.0</td>\n",
              "      <td>11500.0</td>\n",
              "      <td>15</td>\n",
              "      <td>2017-04-24 01:35:52</td>\n",
              "      <td>NaN</td>\n",
              "      <td>2017-04-24</td>\n",
              "      <td>2017-04-24 00:48:43</td>\n",
              "      <td>train</td>\n",
              "    </tr>\n",
              "    <tr>\n",
              "      <th>4</th>\n",
              "      <td>8a85890754145ace015429211b513e16</td>\n",
              "      <td>301941754</td>\n",
              "      <td>2</td>\n",
              "      <td>2017-06-17 09:29:57</td>\n",
              "      <td>2017-06-17 08:29:50</td>\n",
              "      <td>10000.0</td>\n",
              "      <td>11500.0</td>\n",
              "      <td>15</td>\n",
              "      <td>2017-07-14 21:18:43</td>\n",
              "      <td>NaN</td>\n",
              "      <td>2017-07-03</td>\n",
              "      <td>2017-07-14 21:08:35</td>\n",
              "      <td>train</td>\n",
              "    </tr>\n",
              "  </tbody>\n",
              "</table>\n",
              "</div>"
            ],
            "text/plain": [
              "                         customerid  systemloanid  ...     firstrepaiddate    set\n",
              "0  8a2a81a74ce8c05d014cfb32a0da1049     301682320  ... 2016-09-01 15:51:43  train\n",
              "1  8a2a81a74ce8c05d014cfb32a0da1049     301883808  ... 2017-05-26 00:00:00  train\n",
              "2  8a2a81a74ce8c05d014cfb32a0da1049     301831714  ... 2017-04-26 22:03:47  train\n",
              "3  8a8588f35438fe12015444567666018e     301861541  ... 2017-04-24 00:48:43  train\n",
              "4  8a85890754145ace015429211b513e16     301941754  ... 2017-07-14 21:08:35  train\n",
              "\n",
              "[5 rows x 13 columns]"
            ]
          },
          "metadata": {
            "tags": []
          },
          "execution_count": 93
        }
      ]
    },
    {
      "cell_type": "code",
      "metadata": {
        "id": "31kftq9J0z7Z",
        "colab_type": "code",
        "colab": {
          "base_uri": "https://localhost:8080/",
          "height": 414
        },
        "outputId": "1742a33d-18b1-41e5-e6de-dd6d59d3efd4"
      },
      "source": [
        "# previous loan data\n",
        "\n",
        "%matplotlib inline\n",
        "\n",
        "percentage_missing_data = previous_data.isnull().sum() / previous_data.shape[0]\n",
        "ax = percentage_missing_data.plot(kind = 'bar', color='r', figsize = (16, 5))\n",
        "ax.set_xlabel('Feature')\n",
        "ax.set_ylabel('Percent Empty / NaN')\n",
        "ax.set_title('Feature Emptiness Performance_data')\n",
        "plt.show()"
      ],
      "execution_count": 94,
      "outputs": [
        {
          "output_type": "display_data",
          "data": {
            "image/png": "[encoded data removed]",
            "text/plain": [
              "<Figure size 1152x360 with 1 Axes>"
            ]
          },
          "metadata": {
            "tags": []
          }
        }
      ]
    },
    {
      "cell_type": "code",
      "metadata": {
        "id": "9sqUqHcc1U24",
        "colab_type": "code",
        "colab": {
          "base_uri": "https://localhost:8080/",
          "height": 309
        },
        "outputId": "f2c793a4-ed17-4ddb-dc29-e7dbe3e75e0b"
      },
      "source": [
        "previous_data.drop('referredby', axis=1, inplace=True)\n",
        "previous_data.head()"
      ],
      "execution_count": 95,
      "outputs": [
        {
          "output_type": "execute_result",
          "data": {
            "text/html": [
              "<div>\n",
              "<style scoped>\n",
              "    .dataframe tbody tr th:only-of-type {\n",
              "        vertical-align: middle;\n",
              "    }\n",
              "\n",
              "    .dataframe tbody tr th {\n",
              "        vertical-align: top;\n",
              "    }\n",
              "\n",
              "    .dataframe thead th {\n",
              "        text-align: right;\n",
              "    }\n",
              "</style>\n",
              "<table border=\"1\" class=\"dataframe\">\n",
              "  <thead>\n",
              "    <tr style=\"text-align: right;\">\n",
              "      <th></th>\n",
              "      <th>customerid</th>\n",
              "      <th>systemloanid</th>\n",
              "      <th>loannumber</th>\n",
              "      <th>approveddate</th>\n",
              "      <th>creationdate</th>\n",
              "      <th>loanamount</th>\n",
              "      <th>totaldue</th>\n",
              "      <th>termdays</th>\n",
              "      <th>closeddate</th>\n",
              "      <th>firstduedate</th>\n",
              "      <th>firstrepaiddate</th>\n",
              "      <th>set</th>\n",
              "    </tr>\n",
              "  </thead>\n",
              "  <tbody>\n",
              "    <tr>\n",
              "      <th>0</th>\n",
              "      <td>8a2a81a74ce8c05d014cfb32a0da1049</td>\n",
              "      <td>301682320</td>\n",
              "      <td>2</td>\n",
              "      <td>2016-08-15 18:22:40</td>\n",
              "      <td>2016-08-15 17:22:32</td>\n",
              "      <td>10000.0</td>\n",
              "      <td>13000.0</td>\n",
              "      <td>30</td>\n",
              "      <td>2016-09-01 16:06:48</td>\n",
              "      <td>2016-09-14</td>\n",
              "      <td>2016-09-01 15:51:43</td>\n",
              "      <td>train</td>\n",
              "    </tr>\n",
              "    <tr>\n",
              "      <th>1</th>\n",
              "      <td>8a2a81a74ce8c05d014cfb32a0da1049</td>\n",
              "      <td>301883808</td>\n",
              "      <td>9</td>\n",
              "      <td>2017-04-28 18:39:07</td>\n",
              "      <td>2017-04-28 17:38:53</td>\n",
              "      <td>10000.0</td>\n",
              "      <td>13000.0</td>\n",
              "      <td>30</td>\n",
              "      <td>2017-05-28 14:44:49</td>\n",
              "      <td>2017-05-30</td>\n",
              "      <td>2017-05-26 00:00:00</td>\n",
              "      <td>train</td>\n",
              "    </tr>\n",
              "    <tr>\n",
              "      <th>2</th>\n",
              "      <td>8a2a81a74ce8c05d014cfb32a0da1049</td>\n",
              "      <td>301831714</td>\n",
              "      <td>8</td>\n",
              "      <td>2017-03-05 10:56:25</td>\n",
              "      <td>2017-03-05 09:56:19</td>\n",
              "      <td>20000.0</td>\n",
              "      <td>23800.0</td>\n",
              "      <td>30</td>\n",
              "      <td>2017-04-26 22:18:56</td>\n",
              "      <td>2017-04-04</td>\n",
              "      <td>2017-04-26 22:03:47</td>\n",
              "      <td>train</td>\n",
              "    </tr>\n",
              "    <tr>\n",
              "      <th>3</th>\n",
              "      <td>8a8588f35438fe12015444567666018e</td>\n",
              "      <td>301861541</td>\n",
              "      <td>5</td>\n",
              "      <td>2017-04-09 18:25:55</td>\n",
              "      <td>2017-04-09 17:25:42</td>\n",
              "      <td>10000.0</td>\n",
              "      <td>11500.0</td>\n",
              "      <td>15</td>\n",
              "      <td>2017-04-24 01:35:52</td>\n",
              "      <td>2017-04-24</td>\n",
              "      <td>2017-04-24 00:48:43</td>\n",
              "      <td>train</td>\n",
              "    </tr>\n",
              "    <tr>\n",
              "      <th>4</th>\n",
              "      <td>8a85890754145ace015429211b513e16</td>\n",
              "      <td>301941754</td>\n",
              "      <td>2</td>\n",
              "      <td>2017-06-17 09:29:57</td>\n",
              "      <td>2017-06-17 08:29:50</td>\n",
              "      <td>10000.0</td>\n",
              "      <td>11500.0</td>\n",
              "      <td>15</td>\n",
              "      <td>2017-07-14 21:18:43</td>\n",
              "      <td>2017-07-03</td>\n",
              "      <td>2017-07-14 21:08:35</td>\n",
              "      <td>train</td>\n",
              "    </tr>\n",
              "  </tbody>\n",
              "</table>\n",
              "</div>"
            ],
            "text/plain": [
              "                         customerid  systemloanid  ...     firstrepaiddate    set\n",
              "0  8a2a81a74ce8c05d014cfb32a0da1049     301682320  ... 2016-09-01 15:51:43  train\n",
              "1  8a2a81a74ce8c05d014cfb32a0da1049     301883808  ... 2017-05-26 00:00:00  train\n",
              "2  8a2a81a74ce8c05d014cfb32a0da1049     301831714  ... 2017-04-26 22:03:47  train\n",
              "3  8a8588f35438fe12015444567666018e     301861541  ... 2017-04-24 00:48:43  train\n",
              "4  8a85890754145ace015429211b513e16     301941754  ... 2017-07-14 21:08:35  train\n",
              "\n",
              "[5 rows x 12 columns]"
            ]
          },
          "metadata": {
            "tags": []
          },
          "execution_count": 95
        }
      ]
    },
    {
      "cell_type": "code",
      "metadata": {
        "id": "_Omr8A13yxzz",
        "colab_type": "code",
        "colab": {}
      },
      "source": [
        "# profit the banks make\n",
        "previous_data['profit']=previous_data['totaldue'] -previous_data['loanamount']\n",
        "\n",
        "# this is the return days\n",
        "previous_data['return_days']=previous_data.closeddate-previous_data.approveddate\n",
        "previous_data['return_days']=previous_data['return_days'].apply(lambda x:int(str(x)[:2]))\n",
        "\n",
        "#days left\n",
        "previous_data['days_left']=previous_data.termdays-previous_data.return_days"
      ],
      "execution_count": 0,
      "outputs": []
    },
    {
      "cell_type": "code",
      "metadata": {
        "id": "Ls1onddO2KlX",
        "colab_type": "code",
        "colab": {}
      },
      "source": [
        "# features extracted \n",
        "\n",
        "\n",
        "#Totalprofit\n",
        "Totalprofit=previous_data.pivot_table(values='profit',index='customerid',aggfunc=sum)\n",
        "Totalprofit.rename(columns={'profit':'Totalprofit'},inplace=True)\n",
        "\n",
        "#Avgprofit\n",
        "Avgprofit=previous_data.pivot_table(values='profit',index='customerid',aggfunc=np.mean)\n",
        "Avgprofit.rename(columns={'profit':'Avgprofit'},inplace=True)\n",
        "\n",
        "#Avgloanamount\n",
        "Avgloanamount=previous_data.pivot_table(values='loanamount',index='customerid',aggfunc=np.mean)\n",
        "Avgloanamount.rename(columns={'loanamount':'Avgloanamount'},inplace=True)\n",
        "\n",
        "#Avgtermdays\n",
        "Avgtermdays=previous_data.pivot_table(values='termdays',index='customerid',aggfunc=np.mean)\n",
        "Avgtermdays.rename(columns={'termdays':'Avgtermdays'},inplace=True)\n",
        "\n",
        "#earlypayment\n",
        "earlypayment=previous_data.pivot_table(values='days_left',index='customerid',aggfunc=lambda x:(x>=0).sum())\n",
        "earlypayment.rename(columns={'days_left':'earlypayment'},inplace=True)\n",
        "\n",
        "#Avgdaysleft\n",
        "Avgdaysleft=previous_data.pivot_table(values='days_left',index='customerid',aggfunc=np.mean)\n",
        "Avgdaysleft.rename(columns={'days_left':'Avgdaysleft'},inplace=True)\n",
        "\n",
        "\n",
        "loan_data=[Totalprofit,Avgprofit,Avgloanamount,Avgtermdays,Avgdaysleft,earlypayment]\n",
        "loan_data=loan_data[0].join(loan_data[1:])"
      ],
      "execution_count": 0,
      "outputs": []
    },
    {
      "cell_type": "code",
      "metadata": {
        "id": "Wwgcjs_c2ZOm",
        "colab_type": "code",
        "colab": {
          "base_uri": "https://localhost:8080/",
          "height": 204
        },
        "outputId": "af404418-3f10-4be6-d7a5-7b65bf28042f"
      },
      "source": [
        "performance_data.head()"
      ],
      "execution_count": 98,
      "outputs": [
        {
          "output_type": "execute_result",
          "data": {
            "text/html": [
              "<div>\n",
              "<style scoped>\n",
              "    .dataframe tbody tr th:only-of-type {\n",
              "        vertical-align: middle;\n",
              "    }\n",
              "\n",
              "    .dataframe tbody tr th {\n",
              "        vertical-align: top;\n",
              "    }\n",
              "\n",
              "    .dataframe thead th {\n",
              "        text-align: right;\n",
              "    }\n",
              "</style>\n",
              "<table border=\"1\" class=\"dataframe\">\n",
              "  <thead>\n",
              "    <tr style=\"text-align: right;\">\n",
              "      <th></th>\n",
              "      <th>customerid</th>\n",
              "      <th>systemloanid</th>\n",
              "      <th>loannumber</th>\n",
              "      <th>approveddate</th>\n",
              "      <th>creationdate</th>\n",
              "      <th>loanamount</th>\n",
              "      <th>totaldue</th>\n",
              "      <th>termdays</th>\n",
              "      <th>good_bad_flag</th>\n",
              "      <th>set</th>\n",
              "    </tr>\n",
              "  </thead>\n",
              "  <tbody>\n",
              "    <tr>\n",
              "      <th>0</th>\n",
              "      <td>8a2a81a74ce8c05d014cfb32a0da1049</td>\n",
              "      <td>301994762</td>\n",
              "      <td>12</td>\n",
              "      <td>2017-07-25 08:22:56</td>\n",
              "      <td>2017-07-25 07:22:47</td>\n",
              "      <td>30000.0</td>\n",
              "      <td>34500.0</td>\n",
              "      <td>30</td>\n",
              "      <td>1.0</td>\n",
              "      <td>train</td>\n",
              "    </tr>\n",
              "    <tr>\n",
              "      <th>1</th>\n",
              "      <td>8a85886e54beabf90154c0a29ae757c0</td>\n",
              "      <td>301965204</td>\n",
              "      <td>2</td>\n",
              "      <td>2017-07-05 17:04:41</td>\n",
              "      <td>2017-07-05 16:04:18</td>\n",
              "      <td>15000.0</td>\n",
              "      <td>17250.0</td>\n",
              "      <td>30</td>\n",
              "      <td>1.0</td>\n",
              "      <td>train</td>\n",
              "    </tr>\n",
              "    <tr>\n",
              "      <th>2</th>\n",
              "      <td>8a8588f35438fe12015444567666018e</td>\n",
              "      <td>301966580</td>\n",
              "      <td>7</td>\n",
              "      <td>2017-07-06 14:52:57</td>\n",
              "      <td>2017-07-06 13:52:51</td>\n",
              "      <td>20000.0</td>\n",
              "      <td>22250.0</td>\n",
              "      <td>15</td>\n",
              "      <td>1.0</td>\n",
              "      <td>train</td>\n",
              "    </tr>\n",
              "    <tr>\n",
              "      <th>3</th>\n",
              "      <td>8a85890754145ace015429211b513e16</td>\n",
              "      <td>301999343</td>\n",
              "      <td>3</td>\n",
              "      <td>2017-07-27 19:00:41</td>\n",
              "      <td>2017-07-27 18:00:35</td>\n",
              "      <td>10000.0</td>\n",
              "      <td>11500.0</td>\n",
              "      <td>15</td>\n",
              "      <td>1.0</td>\n",
              "      <td>train</td>\n",
              "    </tr>\n",
              "    <tr>\n",
              "      <th>4</th>\n",
              "      <td>8a858970548359cc0154883481981866</td>\n",
              "      <td>301962360</td>\n",
              "      <td>9</td>\n",
              "      <td>2017-07-03 23:42:45</td>\n",
              "      <td>2017-07-03 22:42:39</td>\n",
              "      <td>40000.0</td>\n",
              "      <td>44000.0</td>\n",
              "      <td>30</td>\n",
              "      <td>1.0</td>\n",
              "      <td>train</td>\n",
              "    </tr>\n",
              "  </tbody>\n",
              "</table>\n",
              "</div>"
            ],
            "text/plain": [
              "                         customerid  systemloanid  ...  good_bad_flag    set\n",
              "0  8a2a81a74ce8c05d014cfb32a0da1049     301994762  ...            1.0  train\n",
              "1  8a85886e54beabf90154c0a29ae757c0     301965204  ...            1.0  train\n",
              "2  8a8588f35438fe12015444567666018e     301966580  ...            1.0  train\n",
              "3  8a85890754145ace015429211b513e16     301999343  ...            1.0  train\n",
              "4  8a858970548359cc0154883481981866     301962360  ...            1.0  train\n",
              "\n",
              "[5 rows x 10 columns]"
            ]
          },
          "metadata": {
            "tags": []
          },
          "execution_count": 98
        }
      ]
    },
    {
      "cell_type": "code",
      "metadata": {
        "id": "7S52ScQ-8miP",
        "colab_type": "code",
        "colab": {}
      },
      "source": [
        "performance_data['new_profit']=performance_data['totaldue']-performance_data['loanamount'] # synthetic feature"
      ],
      "execution_count": 0,
      "outputs": []
    },
    {
      "cell_type": "code",
      "metadata": {
        "id": "OW6wAxaA2z8P",
        "colab_type": "code",
        "colab": {
          "base_uri": "https://localhost:8080/",
          "height": 204
        },
        "outputId": "ac67de42-7fa8-421d-99f4-5fac9c49651d"
      },
      "source": [
        "\n",
        "useless=['systemloanid','creationdate','approveddate','totaldue']\n",
        "\n",
        "performance_data.drop(useless,axis=1,inplace=True)\n",
        "performance_data.head()"
      ],
      "execution_count": 100,
      "outputs": [
        {
          "output_type": "execute_result",
          "data": {
            "text/html": [
              "<div>\n",
              "<style scoped>\n",
              "    .dataframe tbody tr th:only-of-type {\n",
              "        vertical-align: middle;\n",
              "    }\n",
              "\n",
              "    .dataframe tbody tr th {\n",
              "        vertical-align: top;\n",
              "    }\n",
              "\n",
              "    .dataframe thead th {\n",
              "        text-align: right;\n",
              "    }\n",
              "</style>\n",
              "<table border=\"1\" class=\"dataframe\">\n",
              "  <thead>\n",
              "    <tr style=\"text-align: right;\">\n",
              "      <th></th>\n",
              "      <th>customerid</th>\n",
              "      <th>loannumber</th>\n",
              "      <th>loanamount</th>\n",
              "      <th>termdays</th>\n",
              "      <th>good_bad_flag</th>\n",
              "      <th>set</th>\n",
              "      <th>new_profit</th>\n",
              "    </tr>\n",
              "  </thead>\n",
              "  <tbody>\n",
              "    <tr>\n",
              "      <th>0</th>\n",
              "      <td>8a2a81a74ce8c05d014cfb32a0da1049</td>\n",
              "      <td>12</td>\n",
              "      <td>30000.0</td>\n",
              "      <td>30</td>\n",
              "      <td>1.0</td>\n",
              "      <td>train</td>\n",
              "      <td>4500.0</td>\n",
              "    </tr>\n",
              "    <tr>\n",
              "      <th>1</th>\n",
              "      <td>8a85886e54beabf90154c0a29ae757c0</td>\n",
              "      <td>2</td>\n",
              "      <td>15000.0</td>\n",
              "      <td>30</td>\n",
              "      <td>1.0</td>\n",
              "      <td>train</td>\n",
              "      <td>2250.0</td>\n",
              "    </tr>\n",
              "    <tr>\n",
              "      <th>2</th>\n",
              "      <td>8a8588f35438fe12015444567666018e</td>\n",
              "      <td>7</td>\n",
              "      <td>20000.0</td>\n",
              "      <td>15</td>\n",
              "      <td>1.0</td>\n",
              "      <td>train</td>\n",
              "      <td>2250.0</td>\n",
              "    </tr>\n",
              "    <tr>\n",
              "      <th>3</th>\n",
              "      <td>8a85890754145ace015429211b513e16</td>\n",
              "      <td>3</td>\n",
              "      <td>10000.0</td>\n",
              "      <td>15</td>\n",
              "      <td>1.0</td>\n",
              "      <td>train</td>\n",
              "      <td>1500.0</td>\n",
              "    </tr>\n",
              "    <tr>\n",
              "      <th>4</th>\n",
              "      <td>8a858970548359cc0154883481981866</td>\n",
              "      <td>9</td>\n",
              "      <td>40000.0</td>\n",
              "      <td>30</td>\n",
              "      <td>1.0</td>\n",
              "      <td>train</td>\n",
              "      <td>4000.0</td>\n",
              "    </tr>\n",
              "  </tbody>\n",
              "</table>\n",
              "</div>"
            ],
            "text/plain": [
              "                         customerid  loannumber  ...    set  new_profit\n",
              "0  8a2a81a74ce8c05d014cfb32a0da1049          12  ...  train      4500.0\n",
              "1  8a85886e54beabf90154c0a29ae757c0           2  ...  train      2250.0\n",
              "2  8a8588f35438fe12015444567666018e           7  ...  train      2250.0\n",
              "3  8a85890754145ace015429211b513e16           3  ...  train      1500.0\n",
              "4  8a858970548359cc0154883481981866           9  ...  train      4000.0\n",
              "\n",
              "[5 rows x 7 columns]"
            ]
          },
          "metadata": {
            "tags": []
          },
          "execution_count": 100
        }
      ]
    },
    {
      "cell_type": "code",
      "metadata": {
        "id": "BffzHU-b2zNx",
        "colab_type": "code",
        "colab": {
          "base_uri": "https://localhost:8080/",
          "height": 224
        },
        "outputId": "ab7122bc-cd87-4ee9-cbe9-44cce2432ebb"
      },
      "source": [
        "featured_data = pd.merge(loan_data.reset_index(),performance_data,how='outer',on='customerid')\n",
        "featured_data.head()"
      ],
      "execution_count": 101,
      "outputs": [
        {
          "output_type": "execute_result",
          "data": {
            "text/html": [
              "<div>\n",
              "<style scoped>\n",
              "    .dataframe tbody tr th:only-of-type {\n",
              "        vertical-align: middle;\n",
              "    }\n",
              "\n",
              "    .dataframe tbody tr th {\n",
              "        vertical-align: top;\n",
              "    }\n",
              "\n",
              "    .dataframe thead th {\n",
              "        text-align: right;\n",
              "    }\n",
              "</style>\n",
              "<table border=\"1\" class=\"dataframe\">\n",
              "  <thead>\n",
              "    <tr style=\"text-align: right;\">\n",
              "      <th></th>\n",
              "      <th>customerid</th>\n",
              "      <th>Totalprofit</th>\n",
              "      <th>Avgprofit</th>\n",
              "      <th>Avgloanamount</th>\n",
              "      <th>Avgtermdays</th>\n",
              "      <th>Avgdaysleft</th>\n",
              "      <th>earlypayment</th>\n",
              "      <th>loannumber</th>\n",
              "      <th>loanamount</th>\n",
              "      <th>termdays</th>\n",
              "      <th>good_bad_flag</th>\n",
              "      <th>set</th>\n",
              "      <th>new_profit</th>\n",
              "    </tr>\n",
              "  </thead>\n",
              "  <tbody>\n",
              "    <tr>\n",
              "      <th>0</th>\n",
              "      <td>8a1088a0484472eb01484669e3ce4e0b</td>\n",
              "      <td>1500.0</td>\n",
              "      <td>1500.000000</td>\n",
              "      <td>10000.000000</td>\n",
              "      <td>15.000000</td>\n",
              "      <td>-7.00</td>\n",
              "      <td>0.0</td>\n",
              "      <td>2</td>\n",
              "      <td>10000.0</td>\n",
              "      <td>15</td>\n",
              "      <td>0.0</td>\n",
              "      <td>train</td>\n",
              "      <td>1500.0</td>\n",
              "    </tr>\n",
              "    <tr>\n",
              "      <th>1</th>\n",
              "      <td>8a1a1e7e4f707f8b014f797718316cad</td>\n",
              "      <td>19500.0</td>\n",
              "      <td>4875.000000</td>\n",
              "      <td>17500.000000</td>\n",
              "      <td>37.500000</td>\n",
              "      <td>6.25</td>\n",
              "      <td>3.0</td>\n",
              "      <td>5</td>\n",
              "      <td>30000.0</td>\n",
              "      <td>60</td>\n",
              "      <td>1.0</td>\n",
              "      <td>train</td>\n",
              "      <td>9000.0</td>\n",
              "    </tr>\n",
              "    <tr>\n",
              "      <th>2</th>\n",
              "      <td>8a1a32fc49b632520149c3b8fdf85139</td>\n",
              "      <td>16500.0</td>\n",
              "      <td>2357.142857</td>\n",
              "      <td>12857.142857</td>\n",
              "      <td>19.285714</td>\n",
              "      <td>1.00</td>\n",
              "      <td>6.0</td>\n",
              "      <td>8</td>\n",
              "      <td>20000.0</td>\n",
              "      <td>30</td>\n",
              "      <td>1.0</td>\n",
              "      <td>train</td>\n",
              "      <td>4500.0</td>\n",
              "    </tr>\n",
              "    <tr>\n",
              "      <th>3</th>\n",
              "      <td>8a1eb5ba49a682300149c3c068b806c7</td>\n",
              "      <td>32400.0</td>\n",
              "      <td>4050.000000</td>\n",
              "      <td>16250.000000</td>\n",
              "      <td>33.750000</td>\n",
              "      <td>5.25</td>\n",
              "      <td>8.0</td>\n",
              "      <td>9</td>\n",
              "      <td>30000.0</td>\n",
              "      <td>60</td>\n",
              "      <td>1.0</td>\n",
              "      <td>train</td>\n",
              "      <td>9000.0</td>\n",
              "    </tr>\n",
              "    <tr>\n",
              "      <th>4</th>\n",
              "      <td>8a1edbf14734127f0147356fdb1b1eb2</td>\n",
              "      <td>4500.0</td>\n",
              "      <td>2250.000000</td>\n",
              "      <td>10000.000000</td>\n",
              "      <td>22.500000</td>\n",
              "      <td>4.50</td>\n",
              "      <td>2.0</td>\n",
              "      <td>3</td>\n",
              "      <td>10000.0</td>\n",
              "      <td>15</td>\n",
              "      <td>1.0</td>\n",
              "      <td>train</td>\n",
              "      <td>1500.0</td>\n",
              "    </tr>\n",
              "  </tbody>\n",
              "</table>\n",
              "</div>"
            ],
            "text/plain": [
              "                         customerid  Totalprofit  ...    set  new_profit\n",
              "0  8a1088a0484472eb01484669e3ce4e0b       1500.0  ...  train      1500.0\n",
              "1  8a1a1e7e4f707f8b014f797718316cad      19500.0  ...  train      9000.0\n",
              "2  8a1a32fc49b632520149c3b8fdf85139      16500.0  ...  train      4500.0\n",
              "3  8a1eb5ba49a682300149c3c068b806c7      32400.0  ...  train      9000.0\n",
              "4  8a1edbf14734127f0147356fdb1b1eb2       4500.0  ...  train      1500.0\n",
              "\n",
              "[5 rows x 13 columns]"
            ]
          },
          "metadata": {
            "tags": []
          },
          "execution_count": 101
        }
      ]
    },
    {
      "cell_type": "code",
      "metadata": {
        "id": "N7aOvGg57Dx-",
        "colab_type": "code",
        "colab": {}
      },
      "source": [
        "# feature engineering continued\n",
        "\n",
        "featured_data['loanamountdeviation']=featured_data.Avgloanamount-featured_data.loanamount\n",
        "featured_data['profitdeviation']=featured_data.Avgprofit-featured_data.new_profit\n",
        "featured_data['termdaysdeviation']=featured_data.Avgtermdays-featured_data.termdays"
      ],
      "execution_count": 0,
      "outputs": []
    },
    {
      "cell_type": "code",
      "metadata": {
        "id": "DveIjWf97GPn",
        "colab_type": "code",
        "colab": {
          "base_uri": "https://localhost:8080/",
          "height": 309
        },
        "outputId": "7aee3b49-afcb-476e-9a9a-766418e656c2"
      },
      "source": [
        "\n",
        "# merge this featured data with demographic data to feed model\n",
        "new_featured_data = pd.merge(featured_data,demographics_data,how='inner',on='customerid')\n",
        "new_featured_data.head()"
      ],
      "execution_count": 103,
      "outputs": [
        {
          "output_type": "execute_result",
          "data": {
            "text/html": [
              "<div>\n",
              "<style scoped>\n",
              "    .dataframe tbody tr th:only-of-type {\n",
              "        vertical-align: middle;\n",
              "    }\n",
              "\n",
              "    .dataframe tbody tr th {\n",
              "        vertical-align: top;\n",
              "    }\n",
              "\n",
              "    .dataframe thead th {\n",
              "        text-align: right;\n",
              "    }\n",
              "</style>\n",
              "<table border=\"1\" class=\"dataframe\">\n",
              "  <thead>\n",
              "    <tr style=\"text-align: right;\">\n",
              "      <th></th>\n",
              "      <th>customerid</th>\n",
              "      <th>Totalprofit</th>\n",
              "      <th>Avgprofit</th>\n",
              "      <th>Avgloanamount</th>\n",
              "      <th>Avgtermdays</th>\n",
              "      <th>Avgdaysleft</th>\n",
              "      <th>earlypayment</th>\n",
              "      <th>loannumber</th>\n",
              "      <th>loanamount</th>\n",
              "      <th>termdays</th>\n",
              "      <th>good_bad_flag</th>\n",
              "      <th>set_x</th>\n",
              "      <th>new_profit</th>\n",
              "      <th>loanamountdeviation</th>\n",
              "      <th>profitdeviation</th>\n",
              "      <th>termdaysdeviation</th>\n",
              "      <th>birthdate</th>\n",
              "      <th>bank_account_type</th>\n",
              "      <th>longitude_gps</th>\n",
              "      <th>latitude_gps</th>\n",
              "      <th>bank_name_clients</th>\n",
              "      <th>employment_status_clients</th>\n",
              "      <th>set_y</th>\n",
              "      <th>Age</th>\n",
              "    </tr>\n",
              "  </thead>\n",
              "  <tbody>\n",
              "    <tr>\n",
              "      <th>0</th>\n",
              "      <td>8a1088a0484472eb01484669e3ce4e0b</td>\n",
              "      <td>1500.0</td>\n",
              "      <td>1500.000000</td>\n",
              "      <td>10000.000000</td>\n",
              "      <td>15.000000</td>\n",
              "      <td>-7.00</td>\n",
              "      <td>0.0</td>\n",
              "      <td>2</td>\n",
              "      <td>10000.0</td>\n",
              "      <td>15</td>\n",
              "      <td>0.0</td>\n",
              "      <td>train</td>\n",
              "      <td>1500.0</td>\n",
              "      <td>0.000000</td>\n",
              "      <td>0.000000</td>\n",
              "      <td>0.000000</td>\n",
              "      <td>1989-11-09</td>\n",
              "      <td>Savings</td>\n",
              "      <td>3.351667</td>\n",
              "      <td>6.657019</td>\n",
              "      <td>GT Bank</td>\n",
              "      <td>Permanent</td>\n",
              "      <td>train</td>\n",
              "      <td>30</td>\n",
              "    </tr>\n",
              "    <tr>\n",
              "      <th>1</th>\n",
              "      <td>8a1a1e7e4f707f8b014f797718316cad</td>\n",
              "      <td>19500.0</td>\n",
              "      <td>4875.000000</td>\n",
              "      <td>17500.000000</td>\n",
              "      <td>37.500000</td>\n",
              "      <td>6.25</td>\n",
              "      <td>3.0</td>\n",
              "      <td>5</td>\n",
              "      <td>30000.0</td>\n",
              "      <td>60</td>\n",
              "      <td>1.0</td>\n",
              "      <td>train</td>\n",
              "      <td>9000.0</td>\n",
              "      <td>-12500.000000</td>\n",
              "      <td>-4125.000000</td>\n",
              "      <td>-22.500000</td>\n",
              "      <td>1979-10-18</td>\n",
              "      <td>Other</td>\n",
              "      <td>3.395230</td>\n",
              "      <td>6.592191</td>\n",
              "      <td>Standard Chartered</td>\n",
              "      <td>Permanent</td>\n",
              "      <td>train</td>\n",
              "      <td>40</td>\n",
              "    </tr>\n",
              "    <tr>\n",
              "      <th>2</th>\n",
              "      <td>8a1a32fc49b632520149c3b8fdf85139</td>\n",
              "      <td>16500.0</td>\n",
              "      <td>2357.142857</td>\n",
              "      <td>12857.142857</td>\n",
              "      <td>19.285714</td>\n",
              "      <td>1.00</td>\n",
              "      <td>6.0</td>\n",
              "      <td>8</td>\n",
              "      <td>20000.0</td>\n",
              "      <td>30</td>\n",
              "      <td>1.0</td>\n",
              "      <td>train</td>\n",
              "      <td>4500.0</td>\n",
              "      <td>-7142.857143</td>\n",
              "      <td>-2142.857143</td>\n",
              "      <td>-10.714286</td>\n",
              "      <td>1979-01-29</td>\n",
              "      <td>Savings</td>\n",
              "      <td>3.306388</td>\n",
              "      <td>6.651843</td>\n",
              "      <td>GT Bank</td>\n",
              "      <td>Permanent</td>\n",
              "      <td>train</td>\n",
              "      <td>40</td>\n",
              "    </tr>\n",
              "    <tr>\n",
              "      <th>3</th>\n",
              "      <td>8a1eb5ba49a682300149c3c068b806c7</td>\n",
              "      <td>32400.0</td>\n",
              "      <td>4050.000000</td>\n",
              "      <td>16250.000000</td>\n",
              "      <td>33.750000</td>\n",
              "      <td>5.25</td>\n",
              "      <td>8.0</td>\n",
              "      <td>9</td>\n",
              "      <td>30000.0</td>\n",
              "      <td>60</td>\n",
              "      <td>1.0</td>\n",
              "      <td>train</td>\n",
              "      <td>9000.0</td>\n",
              "      <td>-13750.000000</td>\n",
              "      <td>-4950.000000</td>\n",
              "      <td>-26.250000</td>\n",
              "      <td>1978-11-25</td>\n",
              "      <td>Savings</td>\n",
              "      <td>3.426698</td>\n",
              "      <td>6.423048</td>\n",
              "      <td>First Bank</td>\n",
              "      <td>Permanent</td>\n",
              "      <td>train</td>\n",
              "      <td>41</td>\n",
              "    </tr>\n",
              "    <tr>\n",
              "      <th>4</th>\n",
              "      <td>8a1edbf14734127f0147356fdb1b1eb2</td>\n",
              "      <td>4500.0</td>\n",
              "      <td>2250.000000</td>\n",
              "      <td>10000.000000</td>\n",
              "      <td>22.500000</td>\n",
              "      <td>4.50</td>\n",
              "      <td>2.0</td>\n",
              "      <td>3</td>\n",
              "      <td>10000.0</td>\n",
              "      <td>15</td>\n",
              "      <td>1.0</td>\n",
              "      <td>train</td>\n",
              "      <td>1500.0</td>\n",
              "      <td>0.000000</td>\n",
              "      <td>750.000000</td>\n",
              "      <td>7.500000</td>\n",
              "      <td>1978-04-07</td>\n",
              "      <td>Savings</td>\n",
              "      <td>6.976132</td>\n",
              "      <td>4.801001</td>\n",
              "      <td>GT Bank</td>\n",
              "      <td>Permanent</td>\n",
              "      <td>test</td>\n",
              "      <td>41</td>\n",
              "    </tr>\n",
              "  </tbody>\n",
              "</table>\n",
              "</div>"
            ],
            "text/plain": [
              "                         customerid  Totalprofit  ...  set_y  Age\n",
              "0  8a1088a0484472eb01484669e3ce4e0b       1500.0  ...  train   30\n",
              "1  8a1a1e7e4f707f8b014f797718316cad      19500.0  ...  train   40\n",
              "2  8a1a32fc49b632520149c3b8fdf85139      16500.0  ...  train   40\n",
              "3  8a1eb5ba49a682300149c3c068b806c7      32400.0  ...  train   41\n",
              "4  8a1edbf14734127f0147356fdb1b1eb2       4500.0  ...   test   41\n",
              "\n",
              "[5 rows x 24 columns]"
            ]
          },
          "metadata": {
            "tags": []
          },
          "execution_count": 103
        }
      ]
    },
    {
      "cell_type": "code",
      "metadata": {
        "id": "mPHYJWSK9jZE",
        "colab_type": "code",
        "colab": {}
      },
      "source": [
        "#drop columns I dont need \n",
        "new_featured_data.drop(columns=['set_x','set_y','bank_name_clients',\"birthdate\"],inplace=True)"
      ],
      "execution_count": 0,
      "outputs": []
    },
    {
      "cell_type": "code",
      "metadata": {
        "id": "PoEnoZov90lM",
        "colab_type": "code",
        "colab": {
          "base_uri": "https://localhost:8080/",
          "height": 136
        },
        "outputId": "1288fd04-1280-487e-f2d7-f88292158bf9"
      },
      "source": [
        "new_featured_data.columns"
      ],
      "execution_count": 107,
      "outputs": [
        {
          "output_type": "execute_result",
          "data": {
            "text/plain": [
              "Index(['customerid', 'Totalprofit', 'Avgprofit', 'Avgloanamount',\n",
              "       'Avgtermdays', 'Avgdaysleft', 'earlypayment', 'loannumber',\n",
              "       'loanamount', 'termdays', 'good_bad_flag', 'new_profit',\n",
              "       'loanamountdeviation', 'profitdeviation', 'termdaysdeviation',\n",
              "       'bank_account_type', 'longitude_gps', 'latitude_gps',\n",
              "       'employment_status_clients', 'Age'],\n",
              "      dtype='object')"
            ]
          },
          "metadata": {
            "tags": []
          },
          "execution_count": 107
        }
      ]
    },
    {
      "cell_type": "code",
      "metadata": {
        "id": "K3CTrt-39ztr",
        "colab_type": "code",
        "colab": {}
      },
      "source": [
        "new_featured_data.fillna(0, inplace=True)\n",
        "\n",
        "\n",
        "\n",
        "from sklearn.preprocessing import LabelEncoder\n",
        "\n",
        "encode = LabelEncoder()\n",
        "\n",
        "new_featured_data[\"bank_account_type\"] = encode.fit_transform(new_featured_data['bank_account_type'])\n",
        "\n",
        "\n",
        "# Numeric encoding\n",
        "new_featured_data[\"level_of_education_clients\"] = new_featured_data[\"level_of_education_clients\"].map({\"Primary\":1,\n",
        "                                                                                                       \"Graduate\":2,\n",
        "                                                                                                       \"Secondary\":3,\n",
        "                                                                                                       \"Post-Graduate\":4})\n",
        "\n",
        "\n",
        "new_featured_data[\"employment_status_clients\"] = new_featured_data[\"employment_status_clients\"].map({\"Permanent\":1,\n",
        "                                                                                                       \"Student\":2,\n",
        "                                                                                                       \"Self-Employed\":3})"
      ],
      "execution_count": 0,
      "outputs": []
    },
    {
      "cell_type": "code",
      "metadata": {
        "id": "fsFm-Pmk-KXO",
        "colab_type": "code",
        "colab": {
          "base_uri": "https://localhost:8080/",
          "height": 224
        },
        "outputId": "3d4482fa-cc3b-4584-a25b-a28e1c5900b4"
      },
      "source": [
        "# fill in nan\n",
        "new_featured_data.fillna(0, inplace=True)\n",
        "new_featured_data.head()"
      ],
      "execution_count": 108,
      "outputs": [
        {
          "output_type": "execute_result",
          "data": {
            "text/html": [
              "<div>\n",
              "<style scoped>\n",
              "    .dataframe tbody tr th:only-of-type {\n",
              "        vertical-align: middle;\n",
              "    }\n",
              "\n",
              "    .dataframe tbody tr th {\n",
              "        vertical-align: top;\n",
              "    }\n",
              "\n",
              "    .dataframe thead th {\n",
              "        text-align: right;\n",
              "    }\n",
              "</style>\n",
              "<table border=\"1\" class=\"dataframe\">\n",
              "  <thead>\n",
              "    <tr style=\"text-align: right;\">\n",
              "      <th></th>\n",
              "      <th>customerid</th>\n",
              "      <th>Totalprofit</th>\n",
              "      <th>Avgprofit</th>\n",
              "      <th>Avgloanamount</th>\n",
              "      <th>Avgtermdays</th>\n",
              "      <th>Avgdaysleft</th>\n",
              "      <th>earlypayment</th>\n",
              "      <th>loannumber</th>\n",
              "      <th>loanamount</th>\n",
              "      <th>termdays</th>\n",
              "      <th>good_bad_flag</th>\n",
              "      <th>new_profit</th>\n",
              "      <th>loanamountdeviation</th>\n",
              "      <th>profitdeviation</th>\n",
              "      <th>termdaysdeviation</th>\n",
              "      <th>bank_account_type</th>\n",
              "      <th>longitude_gps</th>\n",
              "      <th>latitude_gps</th>\n",
              "      <th>employment_status_clients</th>\n",
              "      <th>Age</th>\n",
              "    </tr>\n",
              "  </thead>\n",
              "  <tbody>\n",
              "    <tr>\n",
              "      <th>0</th>\n",
              "      <td>8a1088a0484472eb01484669e3ce4e0b</td>\n",
              "      <td>1500.0</td>\n",
              "      <td>1500.000000</td>\n",
              "      <td>10000.000000</td>\n",
              "      <td>15.000000</td>\n",
              "      <td>-7.00</td>\n",
              "      <td>0.0</td>\n",
              "      <td>2</td>\n",
              "      <td>10000.0</td>\n",
              "      <td>15</td>\n",
              "      <td>0.0</td>\n",
              "      <td>1500.0</td>\n",
              "      <td>0.000000</td>\n",
              "      <td>0.000000</td>\n",
              "      <td>0.000000</td>\n",
              "      <td>Savings</td>\n",
              "      <td>3.351667</td>\n",
              "      <td>6.657019</td>\n",
              "      <td>Permanent</td>\n",
              "      <td>30</td>\n",
              "    </tr>\n",
              "    <tr>\n",
              "      <th>1</th>\n",
              "      <td>8a1a1e7e4f707f8b014f797718316cad</td>\n",
              "      <td>19500.0</td>\n",
              "      <td>4875.000000</td>\n",
              "      <td>17500.000000</td>\n",
              "      <td>37.500000</td>\n",
              "      <td>6.25</td>\n",
              "      <td>3.0</td>\n",
              "      <td>5</td>\n",
              "      <td>30000.0</td>\n",
              "      <td>60</td>\n",
              "      <td>1.0</td>\n",
              "      <td>9000.0</td>\n",
              "      <td>-12500.000000</td>\n",
              "      <td>-4125.000000</td>\n",
              "      <td>-22.500000</td>\n",
              "      <td>Other</td>\n",
              "      <td>3.395230</td>\n",
              "      <td>6.592191</td>\n",
              "      <td>Permanent</td>\n",
              "      <td>40</td>\n",
              "    </tr>\n",
              "    <tr>\n",
              "      <th>2</th>\n",
              "      <td>8a1a32fc49b632520149c3b8fdf85139</td>\n",
              "      <td>16500.0</td>\n",
              "      <td>2357.142857</td>\n",
              "      <td>12857.142857</td>\n",
              "      <td>19.285714</td>\n",
              "      <td>1.00</td>\n",
              "      <td>6.0</td>\n",
              "      <td>8</td>\n",
              "      <td>20000.0</td>\n",
              "      <td>30</td>\n",
              "      <td>1.0</td>\n",
              "      <td>4500.0</td>\n",
              "      <td>-7142.857143</td>\n",
              "      <td>-2142.857143</td>\n",
              "      <td>-10.714286</td>\n",
              "      <td>Savings</td>\n",
              "      <td>3.306388</td>\n",
              "      <td>6.651843</td>\n",
              "      <td>Permanent</td>\n",
              "      <td>40</td>\n",
              "    </tr>\n",
              "    <tr>\n",
              "      <th>3</th>\n",
              "      <td>8a1eb5ba49a682300149c3c068b806c7</td>\n",
              "      <td>32400.0</td>\n",
              "      <td>4050.000000</td>\n",
              "      <td>16250.000000</td>\n",
              "      <td>33.750000</td>\n",
              "      <td>5.25</td>\n",
              "      <td>8.0</td>\n",
              "      <td>9</td>\n",
              "      <td>30000.0</td>\n",
              "      <td>60</td>\n",
              "      <td>1.0</td>\n",
              "      <td>9000.0</td>\n",
              "      <td>-13750.000000</td>\n",
              "      <td>-4950.000000</td>\n",
              "      <td>-26.250000</td>\n",
              "      <td>Savings</td>\n",
              "      <td>3.426698</td>\n",
              "      <td>6.423048</td>\n",
              "      <td>Permanent</td>\n",
              "      <td>41</td>\n",
              "    </tr>\n",
              "    <tr>\n",
              "      <th>4</th>\n",
              "      <td>8a1edbf14734127f0147356fdb1b1eb2</td>\n",
              "      <td>4500.0</td>\n",
              "      <td>2250.000000</td>\n",
              "      <td>10000.000000</td>\n",
              "      <td>22.500000</td>\n",
              "      <td>4.50</td>\n",
              "      <td>2.0</td>\n",
              "      <td>3</td>\n",
              "      <td>10000.0</td>\n",
              "      <td>15</td>\n",
              "      <td>1.0</td>\n",
              "      <td>1500.0</td>\n",
              "      <td>0.000000</td>\n",
              "      <td>750.000000</td>\n",
              "      <td>7.500000</td>\n",
              "      <td>Savings</td>\n",
              "      <td>6.976132</td>\n",
              "      <td>4.801001</td>\n",
              "      <td>Permanent</td>\n",
              "      <td>41</td>\n",
              "    </tr>\n",
              "  </tbody>\n",
              "</table>\n",
              "</div>"
            ],
            "text/plain": [
              "                         customerid  Totalprofit  ...  employment_status_clients  Age\n",
              "0  8a1088a0484472eb01484669e3ce4e0b       1500.0  ...                  Permanent   30\n",
              "1  8a1a1e7e4f707f8b014f797718316cad      19500.0  ...                  Permanent   40\n",
              "2  8a1a32fc49b632520149c3b8fdf85139      16500.0  ...                  Permanent   40\n",
              "3  8a1eb5ba49a682300149c3c068b806c7      32400.0  ...                  Permanent   41\n",
              "4  8a1edbf14734127f0147356fdb1b1eb2       4500.0  ...                  Permanent   41\n",
              "\n",
              "[5 rows x 20 columns]"
            ]
          },
          "metadata": {
            "tags": []
          },
          "execution_count": 108
        }
      ]
    },
    {
      "cell_type": "code",
      "metadata": {
        "id": "iUULlUSFCl04",
        "colab_type": "code",
        "colab": {
          "base_uri": "https://localhost:8080/",
          "height": 34
        },
        "outputId": "61491d21-eab9-42df-e7bb-519bc0889041"
      },
      "source": [
        "from joblib import dump\n",
        "dump(new_featured_data,'Train.joblib')"
      ],
      "execution_count": 109,
      "outputs": [
        {
          "output_type": "execute_result",
          "data": {
            "text/plain": [
              "['Train.joblib']"
            ]
          },
          "metadata": {
            "tags": []
          },
          "execution_count": 109
        }
      ]
    }
  ]
}